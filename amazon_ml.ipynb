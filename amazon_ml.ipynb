{
  "nbformat": 4,
  "nbformat_minor": 0,
  "metadata": {
    "colab": {
      "name": "amazon_ml.ipynb",
      "provenance": [],
      "collapsed_sections": [],
      "toc_visible": true
    },
    "kernelspec": {
      "display_name": "Python 3",
      "name": "python3"
    },
    "language_info": {
      "name": "python"
    },
    "accelerator": "GPU"
  },
  "cells": [
    {
      "cell_type": "markdown",
      "metadata": {
        "id": "DsUq95FuppH6"
      },
      "source": [
        "## Data Fetching"
      ]
    },
    {
      "cell_type": "code",
      "metadata": {
        "colab": {
          "base_uri": "https://localhost:8080/"
        },
        "id": "W7x7t4HubPwQ",
        "outputId": "f169dbb7-9a94-4d33-e9e0-46a07b372384"
      },
      "source": [
        "import numpy as np\n",
        "import pandas as pd\n",
        "import csv\n",
        "import matplotlib.pyplot as plt\n",
        "import re\n",
        "import string\n",
        "from nltk.corpus import stopwords\n",
        "import nltk\n",
        "import tensorflow as tf \n",
        "from tensorflow import keras\n",
        "from tensorflow.keras.layers.experimental.preprocessing import TextVectorization\n",
        "nltk.download('stopwords')\n",
        "from tensorflow.keras import layers\n",
        "import pickle\n",
        "from tensorflow.keras.utils import Sequence\n",
        "from sklearn import preprocessing\n",
        "from sklearn.model_selection import train_test_split\n",
        "from tensorflow.keras.optimizers import Nadam, Adam\n",
        "from tensorflow.keras.callbacks import ModelCheckpoint, TensorBoard, EarlyStopping\n",
        "from time import time\n",
        "\n",
        "\n",
        "from google.colab import drive\n",
        "drive.mount('/content/drive')"
      ],
      "execution_count": null,
      "outputs": [
        {
          "output_type": "stream",
          "text": [
            "[nltk_data] Downloading package stopwords to /root/nltk_data...\n",
            "[nltk_data]   Package stopwords is already up-to-date!\n",
            "Drive already mounted at /content/drive; to attempt to forcibly remount, call drive.mount(\"/content/drive\", force_remount=True).\n"
          ],
          "name": "stdout"
        }
      ]
    },
    {
      "cell_type": "code",
      "metadata": {
        "colab": {
          "base_uri": "https://localhost:8080/"
        },
        "id": "T2WrHegcFiU-",
        "outputId": "478f166d-dac6-4648-bdbd-2a2a9c4cde61"
      },
      "source": [
        "!wget https://s3-ap-southeast-1.amazonaws.com/he-public-data/dataset52a7b21.zip"
      ],
      "execution_count": null,
      "outputs": [
        {
          "output_type": "stream",
          "text": [
            "--2021-08-01 09:20:50--  https://s3-ap-southeast-1.amazonaws.com/he-public-data/dataset52a7b21.zip\n",
            "Resolving s3-ap-southeast-1.amazonaws.com (s3-ap-southeast-1.amazonaws.com)... 52.219.128.146\n",
            "Connecting to s3-ap-southeast-1.amazonaws.com (s3-ap-southeast-1.amazonaws.com)|52.219.128.146|:443... connected.\n",
            "HTTP request sent, awaiting response... 200 OK\n",
            "Length: 1061576029 (1012M) [binary/octet-stream]\n",
            "Saving to: ‘dataset52a7b21.zip’\n",
            "\n",
            "dataset52a7b21.zip  100%[===================>]   1012M  17.2MB/s    in 61s     \n",
            "\n",
            "2021-08-01 09:21:51 (16.7 MB/s) - ‘dataset52a7b21.zip’ saved [1061576029/1061576029]\n",
            "\n"
          ],
          "name": "stdout"
        }
      ]
    },
    {
      "cell_type": "code",
      "metadata": {
        "colab": {
          "base_uri": "https://localhost:8080/"
        },
        "id": "SO_s6BfOFpb6",
        "outputId": "e0ed53cc-8212-4810-a865-ca802d001d33"
      },
      "source": [
        "!unzip dataset52a7b21.zip"
      ],
      "execution_count": null,
      "outputs": [
        {
          "output_type": "stream",
          "text": [
            "Archive:  dataset52a7b21.zip\n",
            "   creating: dataset/\n",
            "  inflating: dataset/train.csv       \n",
            "  inflating: dataset/sample_submission.csv  \n",
            "  inflating: dataset/test.csv        \n",
            "  inflating: dataset/.~lock.train.csv#  \n"
          ],
          "name": "stdout"
        }
      ]
    },
    {
      "cell_type": "code",
      "metadata": {
        "colab": {
          "base_uri": "https://localhost:8080/",
          "height": 581
        },
        "id": "ZQDNOR1WGMJJ",
        "outputId": "4dd4aee8-40b0-4b8c-f61a-0826f29aa05d"
      },
      "source": [
        "df = pd.read_csv(\"dataset/train.csv\", escapechar = \"\\\\\",quoting = csv.QUOTE_NONE, engine=\"python\")\n",
        "df"
      ],
      "execution_count": null,
      "outputs": [
        {
          "output_type": "execute_result",
          "data": {
            "text/html": [
              "<div>\n",
              "<style scoped>\n",
              "    .dataframe tbody tr th:only-of-type {\n",
              "        vertical-align: middle;\n",
              "    }\n",
              "\n",
              "    .dataframe tbody tr th {\n",
              "        vertical-align: top;\n",
              "    }\n",
              "\n",
              "    .dataframe thead th {\n",
              "        text-align: right;\n",
              "    }\n",
              "</style>\n",
              "<table border=\"1\" class=\"dataframe\">\n",
              "  <thead>\n",
              "    <tr style=\"text-align: right;\">\n",
              "      <th></th>\n",
              "      <th>PRODUCT_ID</th>\n",
              "      <th>TITLE</th>\n",
              "      <th>DESCRIPTION</th>\n",
              "      <th>BULLET_POINTS</th>\n",
              "      <th>BRAND</th>\n",
              "    </tr>\n",
              "  </thead>\n",
              "  <tbody>\n",
              "    <tr>\n",
              "      <th>0</th>\n",
              "      <td>1</td>\n",
              "      <td>Command 3M Small Kitchen Hooks, White, Decorat...</td>\n",
              "      <td>Sale Unit: PACK</td>\n",
              "      <td>[INCLUDES - 9 hooks and 12 small indoor strips...</td>\n",
              "      <td>Command</td>\n",
              "    </tr>\n",
              "    <tr>\n",
              "      <th>1</th>\n",
              "      <td>2</td>\n",
              "      <td>O'Neal Jump Hardware JAG Unisex-Adult Glove (B...</td>\n",
              "      <td>Synthetic leather palm with double-layer thumb...</td>\n",
              "      <td>[Silicone printing for a better grip. Long las...</td>\n",
              "      <td>O'Neal</td>\n",
              "    </tr>\n",
              "    <tr>\n",
              "      <th>2</th>\n",
              "      <td>3</td>\n",
              "      <td>NFL Detroit Lions Portable Party Fridge, 15.8 ...</td>\n",
              "      <td>Boelter Brands lets you celebrate your favorit...</td>\n",
              "      <td>[Runs on 12 Volt DC Power or 110 Volt AC Power...</td>\n",
              "      <td>Boelter Brands</td>\n",
              "    </tr>\n",
              "    <tr>\n",
              "      <th>3</th>\n",
              "      <td>4</td>\n",
              "      <td>Panasonic Single Line KX-TS880MX Corded Phone ...</td>\n",
              "      <td>Features: 50 Station Phonebook Corded Phone Al...</td>\n",
              "      <td>Panasonic Landline Phones doesn't come with a ...</td>\n",
              "      <td>Panasonic</td>\n",
              "    </tr>\n",
              "    <tr>\n",
              "      <th>4</th>\n",
              "      <td>5</td>\n",
              "      <td>Zero Baby Girl's 100% Cotton Innerwear Bloomer...</td>\n",
              "      <td>Zero Baby Girl Panties Set. 100% Cotton, Breat...</td>\n",
              "      <td>[Zero Baby Girl Panties, Pack of 6, 100% Cotto...</td>\n",
              "      <td>Zero</td>\n",
              "    </tr>\n",
              "    <tr>\n",
              "      <th>...</th>\n",
              "      <td>...</td>\n",
              "      <td>...</td>\n",
              "      <td>...</td>\n",
              "      <td>...</td>\n",
              "      <td>...</td>\n",
              "    </tr>\n",
              "    <tr>\n",
              "      <th>110770</th>\n",
              "      <td>110771</td>\n",
              "      <td>AAHNA E MALL OneBlade Hybrid Trimmer Shaver An...</td>\n",
              "      <td>&lt;p&gt;1-All In One Hyper Advanced Smart Rechargea...</td>\n",
              "      <td>[Unique One Blade can style, trim and shave, w...</td>\n",
              "      <td>Generic</td>\n",
              "    </tr>\n",
              "    <tr>\n",
              "      <th>110771</th>\n",
              "      <td>110772</td>\n",
              "      <td>Grin Health N99 Anti Pollution Reusable Washab...</td>\n",
              "      <td>&lt;p&gt;SIZE GUIDE : M - (35- 65 Kg), L - (49- 72 K...</td>\n",
              "      <td>[PROTECTION: Filtration rate up to ≥99 percent...</td>\n",
              "      <td>Grin Health</td>\n",
              "    </tr>\n",
              "    <tr>\n",
              "      <th>110772</th>\n",
              "      <td>110773</td>\n",
              "      <td>Asian Army Pink Ultra reusable respirator clot...</td>\n",
              "      <td>Asian HyperProtect A95 masks have been enginee...</td>\n",
              "      <td>[Reusable and environment friendly: These mask...</td>\n",
              "      <td>ASIAN</td>\n",
              "    </tr>\n",
              "    <tr>\n",
              "      <th>110773</th>\n",
              "      <td>110774</td>\n",
              "      <td>IM Safe 3 Ply Non-Woven Disposable Surgical Fa...</td>\n",
              "      <td>This 3 Ply Disposable face mask is manufacture...</td>\n",
              "      <td>[3 Ply Mask: Genuine 3 Ply Mask. 25 GSM Spun B...</td>\n",
              "      <td>Intermarket</td>\n",
              "    </tr>\n",
              "    <tr>\n",
              "      <th>110774</th>\n",
              "      <td>110775</td>\n",
              "      <td>Artifie 100% Cotton Unisex Reusable Breathable...</td>\n",
              "      <td>Material : Cotton Printed, cotton thread, Soft...</td>\n",
              "      <td>[Eco Friendly, Reusable Cotton Masks for Face ...</td>\n",
              "      <td>Artifie</td>\n",
              "    </tr>\n",
              "  </tbody>\n",
              "</table>\n",
              "<p>110775 rows × 5 columns</p>\n",
              "</div>"
            ],
            "text/plain": [
              "        PRODUCT_ID  ...           BRAND\n",
              "0                1  ...         Command\n",
              "1                2  ...          O'Neal\n",
              "2                3  ...  Boelter Brands\n",
              "3                4  ...       Panasonic\n",
              "4                5  ...            Zero\n",
              "...            ...  ...             ...\n",
              "110770      110771  ...         Generic\n",
              "110771      110772  ...     Grin Health\n",
              "110772      110773  ...           ASIAN\n",
              "110773      110774  ...     Intermarket\n",
              "110774      110775  ...         Artifie\n",
              "\n",
              "[110775 rows x 5 columns]"
            ]
          },
          "metadata": {
            "tags": []
          },
          "execution_count": 51
        }
      ]
    },
    {
      "cell_type": "code",
      "metadata": {
        "colab": {
          "base_uri": "https://localhost:8080/"
        },
        "id": "eXlliqwuGlAL",
        "outputId": "7ee78be2-ab75-4a8c-aa82-ec32d18f7522"
      },
      "source": [
        "label_counts = df.BROWSE_NODE_ID.value_counts()\n",
        "label_counts"
      ],
      "execution_count": null,
      "outputs": [
        {
          "output_type": "execute_result",
          "data": {
            "text/plain": [
              "1045       215698\n",
              "5           70318\n",
              "1251        51929\n",
              "1052        45553\n",
              "4           34177\n",
              "            ...  \n",
              "279112          1\n",
              "822060          1\n",
              "1337233         1\n",
              "2136811         1\n",
              "248936          1\n",
              "Name: BROWSE_NODE_ID, Length: 9919, dtype: int64"
            ]
          },
          "metadata": {
            "tags": []
          },
          "execution_count": 57
        }
      ]
    },
    {
      "cell_type": "code",
      "metadata": {
        "colab": {
          "base_uri": "https://localhost:8080/"
        },
        "id": "yx1VPkyyLDpo",
        "outputId": "b2ce6948-2076-4f9c-f7ef-a303ad7af8a9"
      },
      "source": [
        "label_counts.count()"
      ],
      "execution_count": null,
      "outputs": [
        {
          "output_type": "execute_result",
          "data": {
            "text/plain": [
              "9919"
            ]
          },
          "metadata": {
            "tags": []
          },
          "execution_count": 37
        }
      ]
    },
    {
      "cell_type": "code",
      "metadata": {
        "id": "PhWy6NxcKwCe"
      },
      "source": [
        "def get_percentile(label_counts, top_n=[1, 10, 50, 60, 70, 100, 200, 300, 500, 1000, 1500, 2000, 9000], total=2903024):\n",
        "  for n in top_n:\n",
        "    n_large = label_counts.nlargest(n)\n",
        "    subset = n_large.values.sum()\n",
        "    print(f\"Percentile {n}:\", \"%.2f\" % (subset / total * 100), \"%\")"
      ],
      "execution_count": null,
      "outputs": []
    },
    {
      "cell_type": "code",
      "metadata": {
        "colab": {
          "base_uri": "https://localhost:8080/"
        },
        "id": "7Us23rohKM6Y",
        "outputId": "068d1d2e-7933-42ca-f4ba-92b78457a61f"
      },
      "source": [
        "# pick top n labels for faster training (although, this notebook can handle full dataset easily)\n",
        "\n",
        "get_percentile(label_counts)"
      ],
      "execution_count": null,
      "outputs": [
        {
          "output_type": "stream",
          "text": [
            "Percentile 1: 7.43 %\n",
            "Percentile 10: 19.48 %\n",
            "Percentile 50: 37.20 %\n",
            "Percentile 60: 39.90 %\n",
            "Percentile 70: 42.10 %\n",
            "Percentile 100: 47.58 %\n",
            "Percentile 200: 58.34 %\n",
            "Percentile 300: 64.67 %\n",
            "Percentile 500: 72.82 %\n",
            "Percentile 1000: 83.36 %\n",
            "Percentile 1500: 88.84 %\n",
            "Percentile 2000: 92.09 %\n",
            "Percentile 9000: 99.94 %\n"
          ],
          "name": "stdout"
        }
      ]
    },
    {
      "cell_type": "code",
      "metadata": {
        "id": "z81AQ0yvRNz4"
      },
      "source": [
        "stopwords = set(stopwords.words('english'))"
      ],
      "execution_count": null,
      "outputs": []
    },
    {
      "cell_type": "markdown",
      "metadata": {
        "id": "o1Lwdk7Pp0M8"
      },
      "source": [
        "## Data cleaning"
      ]
    },
    {
      "cell_type": "code",
      "metadata": {
        "id": "4axghwcmGvyU"
      },
      "source": [
        "html_tags = re.compile('<.*?>|&([a-z0-9]+|#[0-9]{1,6}|#x[0-9a-f]{1,6});')\n",
        "valid_chars = list(string.ascii_lowercase + string.digits + ' ')\n",
        "\n",
        "def clean_title(text):\n",
        "  try:\n",
        "    text = text.strip() # remove spaces at ends\n",
        "    text = text.lower() \n",
        "    text = re.sub(html_tags, '', text) # remove html\n",
        "    text = re.sub(r'\\d+', '', text) # remove numbers\n",
        "    text = text.translate(str.maketrans(\"\", \"\", string.punctuation)) # remove punctuation\n",
        "    text = ' '.join([word for word in text.split() if word not in stopwords])  # remove stopwords\n",
        "    text = ' '.join(word for word in text.split() if word.isalnum())  # remove any shitty charater\n",
        "    return text\n",
        "  except Exception as e:\n",
        "    print(e)\n",
        "    return np.nan\n",
        "\n",
        "def clean_invalid(text): # helps removeing different fonts\n",
        "    words = text.split()\n",
        "    for word in words:\n",
        "      for char in list(word):\n",
        "        if char not in valid_chars:\n",
        "          return np.nan\n",
        "    return text\n",
        "  except Exception as e:\n",
        "    print(e)\n",
        "    return np.nan\n",
        "\n",
        "def clean_brand(text): \n",
        "  try:\n",
        "    text = text.strip()\n",
        "    text = text.lower()\n",
        "    text = re.sub(html_tags, '', text)\n",
        "    text = re.sub(r'\\d+', '', text)\n",
        "    text = text.translate(str.maketrans(\"\", \"\", string.punctuation)) \n",
        "    words = text.split()\n",
        "    for word in words:\n",
        "      for char in list(word):\n",
        "        if char not in valid_chars:\n",
        "          return np.nan\n",
        "    return text\n",
        "  except:\n",
        "    return np.nan"
      ],
      "execution_count": null,
      "outputs": []
    },
    {
      "cell_type": "code",
      "metadata": {
        "id": "tZkGUMDHYBBZ"
      },
      "source": [
        "df[\"TITLE\"] = df[\"TITLE\"].apply(clean_title)\n",
        "df[\"DESCRIPTION\"] = df[\"DESCRIPTION\"].apply(clean_title)\n",
        "df[\"BULLET_POINTS\"] = df[\"BULLET_POINTS\"].apply(clean_title)\n",
        "df[\"BRAND\"] = df[\"BRAND\"].apply(clean_title)"
      ],
      "execution_count": null,
      "outputs": []
    },
    {
      "cell_type": "code",
      "metadata": {
        "colab": {
          "base_uri": "https://localhost:8080/",
          "height": 581
        },
        "id": "qjzWjnCFnK3Z",
        "outputId": "c96861b1-6a8a-4017-e15b-ab0682f9fd4e"
      },
      "source": [
        "df"
      ],
      "execution_count": null,
      "outputs": [
        {
          "output_type": "execute_result",
          "data": {
            "text/html": [
              "<div>\n",
              "<style scoped>\n",
              "    .dataframe tbody tr th:only-of-type {\n",
              "        vertical-align: middle;\n",
              "    }\n",
              "\n",
              "    .dataframe tbody tr th {\n",
              "        vertical-align: top;\n",
              "    }\n",
              "\n",
              "    .dataframe thead th {\n",
              "        text-align: right;\n",
              "    }\n",
              "</style>\n",
              "<table border=\"1\" class=\"dataframe\">\n",
              "  <thead>\n",
              "    <tr style=\"text-align: right;\">\n",
              "      <th></th>\n",
              "      <th>PRODUCT_ID</th>\n",
              "      <th>TITLE</th>\n",
              "      <th>DESCRIPTION</th>\n",
              "      <th>BULLET_POINTS</th>\n",
              "      <th>BRAND</th>\n",
              "    </tr>\n",
              "  </thead>\n",
              "  <tbody>\n",
              "    <tr>\n",
              "      <th>0</th>\n",
              "      <td>1</td>\n",
              "      <td>command small kitchen hooks white decorate dam...</td>\n",
              "      <td>sale unit pack</td>\n",
              "      <td>includes hooks small indoor strips hook holds ...</td>\n",
              "      <td>command</td>\n",
              "    </tr>\n",
              "    <tr>\n",
              "      <th>1</th>\n",
              "      <td>2</td>\n",
              "      <td>oneal jump hardware jag unisexadult glove blac...</td>\n",
              "      <td>synthetic leather palm doublelayer thumb reinf...</td>\n",
              "      <td>silicone printing better grip long lasting fle...</td>\n",
              "      <td>oneal</td>\n",
              "    </tr>\n",
              "    <tr>\n",
              "      <th>2</th>\n",
              "      <td>3</td>\n",
              "      <td>nfl detroit lions portable party fridge quart</td>\n",
              "      <td>boelter brands lets celebrate favorite popcult...</td>\n",
              "      <td>runs volt dc power volt ac power plugs home ou...</td>\n",
              "      <td>boelter brands</td>\n",
              "    </tr>\n",
              "    <tr>\n",
              "      <th>3</th>\n",
              "      <td>4</td>\n",
              "      <td>panasonic single line kxtsmx corded phone white</td>\n",
              "      <td>features station phonebook corded phone alphan...</td>\n",
              "      <td>panasonic landline phones doesnt come manufact...</td>\n",
              "      <td>panasonic</td>\n",
              "    </tr>\n",
              "    <tr>\n",
              "      <th>4</th>\n",
              "      <td>5</td>\n",
              "      <td>zero baby girls cotton innerwear bloomer drawe...</td>\n",
              "      <td>zero baby girl panties set cotton breathable s...</td>\n",
              "      <td>zero baby girl panties pack cotton baby girlss...</td>\n",
              "      <td>zero</td>\n",
              "    </tr>\n",
              "    <tr>\n",
              "      <th>...</th>\n",
              "      <td>...</td>\n",
              "      <td>...</td>\n",
              "      <td>...</td>\n",
              "      <td>...</td>\n",
              "      <td>...</td>\n",
              "    </tr>\n",
              "    <tr>\n",
              "      <th>110770</th>\n",
              "      <td>110771</td>\n",
              "      <td>aahna e mall oneblade hybrid trimmer shaver ed...</td>\n",
              "      <td>one hyper advanced smart rechargeable razor pr...</td>\n",
              "      <td>unique one blade style trim shave keeping skin...</td>\n",
              "      <td>generic</td>\n",
              "    </tr>\n",
              "    <tr>\n",
              "      <th>110771</th>\n",
              "      <td>110772</td>\n",
              "      <td>grin health n anti pollution reusable washable...</td>\n",
              "      <td>size guide kg l kg xl kg new n anti pollution ...</td>\n",
              "      <td>protection filtration rate percent small pm us...</td>\n",
              "      <td>grin health</td>\n",
              "    </tr>\n",
              "    <tr>\n",
              "      <th>110772</th>\n",
              "      <td>110773</td>\n",
              "      <td>asian army pink ultra reusable respirator clot...</td>\n",
              "      <td>asian hyperprotect masks engineered layer trip...</td>\n",
              "      <td>reusable environment friendly masks washable r...</td>\n",
              "      <td>asian</td>\n",
              "    </tr>\n",
              "    <tr>\n",
              "      <th>110773</th>\n",
              "      <td>110774</td>\n",
              "      <td>im safe ply nonwoven disposable surgical face ...</td>\n",
              "      <td>ply disposable face mask manufactured using si...</td>\n",
              "      <td>ply mask genuine ply mask gsm spun bonded nonw...</td>\n",
              "      <td>intermarket</td>\n",
              "    </tr>\n",
              "    <tr>\n",
              "      <th>110774</th>\n",
              "      <td>110775</td>\n",
              "      <td>artifie cotton unisex reusable breathable wash...</td>\n",
              "      <td>material cotton printed cotton thread soft str...</td>\n",
              "      <td>eco friendly reusable cotton masks face ajrak ...</td>\n",
              "      <td>artifie</td>\n",
              "    </tr>\n",
              "  </tbody>\n",
              "</table>\n",
              "<p>110775 rows × 5 columns</p>\n",
              "</div>"
            ],
            "text/plain": [
              "        PRODUCT_ID  ...           BRAND\n",
              "0                1  ...         command\n",
              "1                2  ...           oneal\n",
              "2                3  ...  boelter brands\n",
              "3                4  ...       panasonic\n",
              "4                5  ...            zero\n",
              "...            ...  ...             ...\n",
              "110770      110771  ...         generic\n",
              "110771      110772  ...     grin health\n",
              "110772      110773  ...           asian\n",
              "110773      110774  ...     intermarket\n",
              "110774      110775  ...         artifie\n",
              "\n",
              "[110775 rows x 5 columns]"
            ]
          },
          "metadata": {
            "tags": []
          },
          "execution_count": 86
        }
      ]
    },
    {
      "cell_type": "code",
      "metadata": {
        "id": "GwYSgvZ7Ikqr"
      },
      "source": [
        "# remove rows with all columns empty\n",
        "df = df.drop(df[(df[\"TITLE\"].isna() & df[\"DESCRIPTION\"].isna() & df[\"BULLET_POINTS\"].isna())].index)\n",
        "\n",
        "# reset indexes after removing rows\n",
        "df.index = pd.RangeIndex(len(df.index))\n",
        "df.index = range(len(df.index))\n",
        "del df[\"Unnamed: 0\"]"
      ],
      "execution_count": null,
      "outputs": []
    },
    {
      "cell_type": "code",
      "metadata": {
        "colab": {
          "base_uri": "https://localhost:8080/"
        },
        "id": "ONt1XSsFJfaV",
        "outputId": "35eb8910-21e2-4435-ed91-3110e6808e21"
      },
      "source": [
        "# Fill nan values by interpolating\n",
        "\n",
        "for idx in range(len(df)):\n",
        "  if pd.isnull(df[\"TITLE\"][idx]):\n",
        "    if not pd.isnull(df[\"DESCRIPTION\"][idx]):\n",
        "      df[\"TITLE\"][idx] = df[\"DESCRIPTION\"][idx]\n",
        "    elif  not pd.isnull(df[\"BULLET_POINTS\"][idx]):\n",
        "      df[\"TITLE\"][idx] = df[\"BULLET_POINTS\"][idx]\n",
        "    else:\n",
        "      print(\"Error interpolating\")"
      ],
      "execution_count": null,
      "outputs": [
        {
          "output_type": "stream",
          "text": [
            "/usr/local/lib/python3.7/dist-packages/ipykernel_launcher.py:4: SettingWithCopyWarning: \n",
            "A value is trying to be set on a copy of a slice from a DataFrame\n",
            "\n",
            "See the caveats in the documentation: https://pandas.pydata.org/pandas-docs/stable/user_guide/indexing.html#returning-a-view-versus-a-copy\n",
            "  after removing the cwd from sys.path.\n",
            "/usr/local/lib/python3.7/dist-packages/ipykernel_launcher.py:6: SettingWithCopyWarning: \n",
            "A value is trying to be set on a copy of a slice from a DataFrame\n",
            "\n",
            "See the caveats in the documentation: https://pandas.pydata.org/pandas-docs/stable/user_guide/indexing.html#returning-a-view-versus-a-copy\n",
            "  \n"
          ],
          "name": "stderr"
        }
      ]
    },
    {
      "cell_type": "code",
      "metadata": {
        "id": "JeI4yF01WMVs"
      },
      "source": [
        "desc_na = df[df[\"DESCRIPTION\"].isna()].index\n",
        "df[\"DESCRIPTION\"][desc_na] = df[\"TITLE\"][desc_na]"
      ],
      "execution_count": null,
      "outputs": []
    },
    {
      "cell_type": "code",
      "metadata": {
        "colab": {
          "base_uri": "https://localhost:8080/"
        },
        "id": "XKpwc5T6Ww6I",
        "outputId": "507f8461-4198-4d4a-de0e-edeaaf69f15d"
      },
      "source": [
        "bull_na = df[df[\"BULLET_POINTS\"].isna()].index\n",
        "df[\"BULLET_POINTS\"][bull_na] = df[\"DESCRIPTION\"][bull_na]"
      ],
      "execution_count": null,
      "outputs": [
        {
          "output_type": "stream",
          "text": [
            "/usr/local/lib/python3.7/dist-packages/ipykernel_launcher.py:2: SettingWithCopyWarning: \n",
            "A value is trying to be set on a copy of a slice from a DataFrame\n",
            "\n",
            "See the caveats in the documentation: https://pandas.pydata.org/pandas-docs/stable/user_guide/indexing.html#returning-a-view-versus-a-copy\n",
            "  \n"
          ],
          "name": "stderr"
        }
      ]
    },
    {
      "cell_type": "code",
      "metadata": {
        "id": "MprYkUCJJ3O3"
      },
      "source": [
        "# replace nan in brands by some fixed token (can be any)\n",
        "df['BRAND'] = df['BRAND'].fillna(\"INVADLID\")"
      ],
      "execution_count": null,
      "outputs": []
    },
    {
      "cell_type": "code",
      "metadata": {
        "colab": {
          "base_uri": "https://localhost:8080/",
          "height": 581
        },
        "id": "JLXHD5h_KFoJ",
        "outputId": "e53f2d3e-dbc2-494d-fd40-2ad603a826a7"
      },
      "source": [
        "df"
      ],
      "execution_count": null,
      "outputs": [
        {
          "output_type": "execute_result",
          "data": {
            "text/html": [
              "<div>\n",
              "<style scoped>\n",
              "    .dataframe tbody tr th:only-of-type {\n",
              "        vertical-align: middle;\n",
              "    }\n",
              "\n",
              "    .dataframe tbody tr th {\n",
              "        vertical-align: top;\n",
              "    }\n",
              "\n",
              "    .dataframe thead th {\n",
              "        text-align: right;\n",
              "    }\n",
              "</style>\n",
              "<table border=\"1\" class=\"dataframe\">\n",
              "  <thead>\n",
              "    <tr style=\"text-align: right;\">\n",
              "      <th></th>\n",
              "      <th>TITLE</th>\n",
              "      <th>DESCRIPTION</th>\n",
              "      <th>BULLET_POINTS</th>\n",
              "      <th>BRAND</th>\n",
              "      <th>BROWSE_NODE_ID</th>\n",
              "    </tr>\n",
              "  </thead>\n",
              "  <tbody>\n",
              "    <tr>\n",
              "      <th>0</th>\n",
              "      <td>pete cat bedtime blues doll inch</td>\n",
              "      <td>pete cat coolest popular cat town new pete cat...</td>\n",
              "      <td>pete cat bedtime blues plush dollbased popular...</td>\n",
              "      <td>MerryMakers</td>\n",
              "      <td>0</td>\n",
              "    </tr>\n",
              "    <tr>\n",
              "      <th>1</th>\n",
              "      <td>new yorker nyhm refrigerator magnet x</td>\n",
              "      <td>new yorker handsome cello wrapped hard magnet ...</td>\n",
              "      <td>cat tea cup new yorker cover artist gurbuz dog...</td>\n",
              "      <td>The New Yorker</td>\n",
              "      <td>1</td>\n",
              "    </tr>\n",
              "    <tr>\n",
              "      <th>2</th>\n",
              "      <td>ultimate selfsufficiency handbook complete gui...</td>\n",
              "      <td>ultimate selfsufficiency handbook complete gui...</td>\n",
              "      <td>skyhorse publishing</td>\n",
              "      <td>imusti</td>\n",
              "      <td>2</td>\n",
              "    </tr>\n",
              "    <tr>\n",
              "      <th>3</th>\n",
              "      <td>amway nutrilite kids chewable iron tablets</td>\n",
              "      <td>amway nutrilite kids chewable iron tablets</td>\n",
              "      <td>nutrilite kidschewable iron tabletsquantity ta...</td>\n",
              "      <td>Amway</td>\n",
              "      <td>3</td>\n",
              "    </tr>\n",
              "    <tr>\n",
              "      <th>4</th>\n",
              "      <td>teacher planner company lesson academic teache...</td>\n",
              "      <td>teacher planner company lesson academic teache...</td>\n",
              "      <td>teacher planner company lesson academic teache...</td>\n",
              "      <td>jatt</td>\n",
              "      <td>4</td>\n",
              "    </tr>\n",
              "    <tr>\n",
              "      <th>...</th>\n",
              "      <td>...</td>\n",
              "      <td>...</td>\n",
              "      <td>...</td>\n",
              "      <td>...</td>\n",
              "      <td>...</td>\n",
              "    </tr>\n",
              "    <tr>\n",
              "      <th>2902950</th>\n",
              "      <td>premium aviator sunglasses hd polarized bright...</td>\n",
              "      <td>premium aviator sunglasses color options craft...</td>\n",
              "      <td>frame size lens height mm lens width mm nosebr...</td>\n",
              "      <td>Generic</td>\n",
              "      <td>1040</td>\n",
              "    </tr>\n",
              "    <tr>\n",
              "      <th>2902951</th>\n",
              "      <td>social distance stickers set sticker slip resi...</td>\n",
              "      <td>set prints social distancing sticker self adhe...</td>\n",
              "      <td>covid safety sticker set maintain crowd contro...</td>\n",
              "      <td>Generic</td>\n",
              "      <td>15199</td>\n",
              "    </tr>\n",
              "    <tr>\n",
              "      <th>2902952</th>\n",
              "      <td>torrto face shield pack adjustable elastic str...</td>\n",
              "      <td>complete face protection torrto face shield ef...</td>\n",
              "      <td>microns pack pcscomplete face protection torrt...</td>\n",
              "      <td>TORR-TO</td>\n",
              "      <td>1044933</td>\n",
              "    </tr>\n",
              "    <tr>\n",
              "      <th>2902953</th>\n",
              "      <td>typec mm oppo r pro typec mm audio jack adapte...</td>\n",
              "      <td>still want use favorite earphonesheadphones le...</td>\n",
              "      <td>indian connectors made indian sockets wall cha...</td>\n",
              "      <td>SHOPBELL</td>\n",
              "      <td>14790</td>\n",
              "    </tr>\n",
              "    <tr>\n",
              "      <th>2902954</th>\n",
              "      <td>kng orange polo tshirt</td>\n",
              "      <td>performance inspired comfort polo shirt mixes ...</td>\n",
              "      <td>performance inspired comfort polo shirt mixes ...</td>\n",
              "      <td>KNG</td>\n",
              "      <td>1213</td>\n",
              "    </tr>\n",
              "  </tbody>\n",
              "</table>\n",
              "<p>2902955 rows × 5 columns</p>\n",
              "</div>"
            ],
            "text/plain": [
              "                                                     TITLE  ... BROWSE_NODE_ID\n",
              "0                         pete cat bedtime blues doll inch  ...              0\n",
              "1                    new yorker nyhm refrigerator magnet x  ...              1\n",
              "2        ultimate selfsufficiency handbook complete gui...  ...              2\n",
              "3               amway nutrilite kids chewable iron tablets  ...              3\n",
              "4        teacher planner company lesson academic teache...  ...              4\n",
              "...                                                    ...  ...            ...\n",
              "2902950  premium aviator sunglasses hd polarized bright...  ...           1040\n",
              "2902951  social distance stickers set sticker slip resi...  ...          15199\n",
              "2902952  torrto face shield pack adjustable elastic str...  ...        1044933\n",
              "2902953  typec mm oppo r pro typec mm audio jack adapte...  ...          14790\n",
              "2902954                             kng orange polo tshirt  ...           1213\n",
              "\n",
              "[2902955 rows x 5 columns]"
            ]
          },
          "metadata": {
            "tags": []
          },
          "execution_count": 70
        }
      ]
    },
    {
      "cell_type": "code",
      "metadata": {
        "id": "bVGe8MwIK9HV"
      },
      "source": [
        "# Save to disk for reuse\n",
        "\n",
        "df.to_csv(\"cleaned_final.csv\")\n",
        "!cp \"cleaned_final.csv\" \"/content/drive/MyDrive/HackerEarth/cleaned_final.csv\""
      ],
      "execution_count": null,
      "outputs": []
    },
    {
      "cell_type": "markdown",
      "metadata": {
        "id": "-OchUa33iXtY"
      },
      "source": [
        "## Data vectorization\n"
      ]
    },
    {
      "cell_type": "code",
      "metadata": {
        "colab": {
          "base_uri": "https://localhost:8080/",
          "height": 581
        },
        "id": "yEv6IAKorrSk",
        "outputId": "8cecb666-ef48-4aa2-fa0a-e8f548b7238c"
      },
      "source": [
        "df"
      ],
      "execution_count": null,
      "outputs": [
        {
          "output_type": "execute_result",
          "data": {
            "text/html": [
              "<div>\n",
              "<style scoped>\n",
              "    .dataframe tbody tr th:only-of-type {\n",
              "        vertical-align: middle;\n",
              "    }\n",
              "\n",
              "    .dataframe tbody tr th {\n",
              "        vertical-align: top;\n",
              "    }\n",
              "\n",
              "    .dataframe thead th {\n",
              "        text-align: right;\n",
              "    }\n",
              "</style>\n",
              "<table border=\"1\" class=\"dataframe\">\n",
              "  <thead>\n",
              "    <tr style=\"text-align: right;\">\n",
              "      <th></th>\n",
              "      <th>TITLE</th>\n",
              "      <th>DESCRIPTION</th>\n",
              "      <th>BULLET_POINTS</th>\n",
              "      <th>BRAND</th>\n",
              "      <th>BROWSE_NODE_ID</th>\n",
              "    </tr>\n",
              "  </thead>\n",
              "  <tbody>\n",
              "    <tr>\n",
              "      <th>0</th>\n",
              "      <td>pete cat bedtime blues doll inch</td>\n",
              "      <td>pete cat coolest popular cat town new pete cat...</td>\n",
              "      <td>pete cat bedtime blues plush dollbased popular...</td>\n",
              "      <td>merrymakers</td>\n",
              "      <td>0</td>\n",
              "    </tr>\n",
              "    <tr>\n",
              "      <th>1</th>\n",
              "      <td>new yorker nyhm refrigerator magnet x</td>\n",
              "      <td>new yorker handsome cello wrapped hard magnet ...</td>\n",
              "      <td>cat tea cup new yorker cover artist gurbuz dog...</td>\n",
              "      <td>the new yorker</td>\n",
              "      <td>1</td>\n",
              "    </tr>\n",
              "    <tr>\n",
              "      <th>2</th>\n",
              "      <td>ultimate selfsufficiency handbook complete gui...</td>\n",
              "      <td>ultimate selfsufficiency handbook complete gui...</td>\n",
              "      <td>skyhorse publishing</td>\n",
              "      <td>imusti</td>\n",
              "      <td>2</td>\n",
              "    </tr>\n",
              "    <tr>\n",
              "      <th>3</th>\n",
              "      <td>amway nutrilite kids chewable iron tablets</td>\n",
              "      <td>amway nutrilite kids chewable iron tablets</td>\n",
              "      <td>nutrilite kidschewable iron tabletsquantity ta...</td>\n",
              "      <td>amway</td>\n",
              "      <td>3</td>\n",
              "    </tr>\n",
              "    <tr>\n",
              "      <th>4</th>\n",
              "      <td>teacher planner company lesson academic teache...</td>\n",
              "      <td>teacher planner company lesson academic teache...</td>\n",
              "      <td>teacher planner company lesson academic teache...</td>\n",
              "      <td>jatt</td>\n",
              "      <td>4</td>\n",
              "    </tr>\n",
              "    <tr>\n",
              "      <th>...</th>\n",
              "      <td>...</td>\n",
              "      <td>...</td>\n",
              "      <td>...</td>\n",
              "      <td>...</td>\n",
              "      <td>...</td>\n",
              "    </tr>\n",
              "    <tr>\n",
              "      <th>2902950</th>\n",
              "      <td>premium aviator sunglasses hd polarized bright...</td>\n",
              "      <td>premium aviator sunglasses color options craft...</td>\n",
              "      <td>frame size lens height mm lens width mm nosebr...</td>\n",
              "      <td>generic</td>\n",
              "      <td>1040</td>\n",
              "    </tr>\n",
              "    <tr>\n",
              "      <th>2902951</th>\n",
              "      <td>social distance stickers set sticker slip resi...</td>\n",
              "      <td>set prints social distancing sticker self adhe...</td>\n",
              "      <td>covid safety sticker set maintain crowd contro...</td>\n",
              "      <td>generic</td>\n",
              "      <td>15199</td>\n",
              "    </tr>\n",
              "    <tr>\n",
              "      <th>2902952</th>\n",
              "      <td>torrto face shield pack adjustable elastic str...</td>\n",
              "      <td>complete face protection torrto face shield ef...</td>\n",
              "      <td>microns pack pcscomplete face protection torrt...</td>\n",
              "      <td>torrto</td>\n",
              "      <td>1044933</td>\n",
              "    </tr>\n",
              "    <tr>\n",
              "      <th>2902953</th>\n",
              "      <td>typec mm oppo r pro typec mm audio jack adapte...</td>\n",
              "      <td>still want use favorite earphonesheadphones le...</td>\n",
              "      <td>indian connectors made indian sockets wall cha...</td>\n",
              "      <td>shopbell</td>\n",
              "      <td>14790</td>\n",
              "    </tr>\n",
              "    <tr>\n",
              "      <th>2902954</th>\n",
              "      <td>kng orange polo tshirt</td>\n",
              "      <td>performance inspired comfort polo shirt mixes ...</td>\n",
              "      <td>performance inspired comfort polo shirt mixes ...</td>\n",
              "      <td>kng</td>\n",
              "      <td>1213</td>\n",
              "    </tr>\n",
              "  </tbody>\n",
              "</table>\n",
              "<p>2902955 rows × 5 columns</p>\n",
              "</div>"
            ],
            "text/plain": [
              "                                                     TITLE  ... BROWSE_NODE_ID\n",
              "0                         pete cat bedtime blues doll inch  ...              0\n",
              "1                    new yorker nyhm refrigerator magnet x  ...              1\n",
              "2        ultimate selfsufficiency handbook complete gui...  ...              2\n",
              "3               amway nutrilite kids chewable iron tablets  ...              3\n",
              "4        teacher planner company lesson academic teache...  ...              4\n",
              "...                                                    ...  ...            ...\n",
              "2902950  premium aviator sunglasses hd polarized bright...  ...           1040\n",
              "2902951  social distance stickers set sticker slip resi...  ...          15199\n",
              "2902952  torrto face shield pack adjustable elastic str...  ...        1044933\n",
              "2902953  typec mm oppo r pro typec mm audio jack adapte...  ...          14790\n",
              "2902954                             kng orange polo tshirt  ...           1213\n",
              "\n",
              "[2902955 rows x 5 columns]"
            ]
          },
          "metadata": {
            "tags": []
          },
          "execution_count": 66
        }
      ]
    },
    {
      "cell_type": "code",
      "metadata": {
        "id": "5K5CzbUBd1G7"
      },
      "source": [
        "# Assign tokens to words (this was not used due to large size in this notebook)\n",
        "# We use character level models instead of words.\n",
        "\n",
        "vectorize_layer.adapt(df[\"DESCRIPTION\"].values[:len(df)//2])\n",
        "vectorize_layer.adapt(df[\"DESCRIPTION\"].values[len(df)//2:])"
      ],
      "execution_count": null,
      "outputs": []
    },
    {
      "cell_type": "code",
      "metadata": {
        "id": "-qqH8IThcfpI"
      },
      "source": [
        "vectorize_layer.adapt(df[\"TITLE\"].values[:len(df)//2])\n",
        "vectorize_layer.adapt(df[\"TITLE\"].values[len(df)//2:])"
      ],
      "execution_count": null,
      "outputs": []
    },
    {
      "cell_type": "code",
      "metadata": {
        "colab": {
          "background_save": true
        },
        "id": "J-nccwdPfXg2"
      },
      "source": [
        "vectorize_layer.adapt(df[\"BULLET_POINTS\"].values[:len(df)//2])\n",
        "vectorize_layer.adapt(df[\"BULLET_POINTS\"].values[len(df)//2:])"
      ],
      "execution_count": null,
      "outputs": []
    },
    {
      "cell_type": "code",
      "metadata": {
        "id": "mjmIuGkhn8z2"
      },
      "source": [
        "pickle.dump({'config': vectorize_layer.get_config(),\n",
        "             'weights': vectorize_layer.get_weights()}\n",
        "            , open(\"tv_layer_all.pkl\", \"wb\"))"
      ],
      "execution_count": null,
      "outputs": []
    },
    {
      "cell_type": "code",
      "metadata": {
        "id": "OV0e8jxjoLTB"
      },
      "source": [
        "!cp \"/content/tv_layer_all.pkl\" \"/content/drive/MyDrive/HackerEarth/tv_layer_all.pkl\""
      ],
      "execution_count": null,
      "outputs": []
    },
    {
      "cell_type": "markdown",
      "metadata": {
        "id": "S42jaY2mMHRF"
      },
      "source": [
        "## Load data vectorizer"
      ]
    },
    {
      "cell_type": "code",
      "metadata": {
        "id": "Du2JhCSASedH"
      },
      "source": [
        "!cp \"/content/drive/MyDrive/HackerEarth/tv_layer_all.pkl\" \"/content/tv_layer_all.pkl\"\n",
        "\n",
        "def get_char_vectorizer():\n",
        "  valid_chars = list(string.ascii_lowercase + string.digits + ' ')\n",
        "  vectorize_layer = TextVectorization(output_mode='int', \n",
        "                                    output_sequence_length=4096)\n",
        "  vectorize_layer.adapt(valid_chars)\n",
        "  return vectorize_layer\n",
        "\n",
        "def get_word_vectorizer():\n",
        "  from_disk = pickle.load(open(\"tv_layer_all.pkl\", \"rb\"))\n",
        "  vectorize_layer = TextVectorization.from_config(from_disk['config'])\n",
        "  vectorize_layer.set_weights(from_disk['weights'])\n",
        "  return vectorize_layer"
      ],
      "execution_count": null,
      "outputs": []
    },
    {
      "cell_type": "markdown",
      "metadata": {
        "id": "FcqzXL74TZn9"
      },
      "source": [
        "## Model Creation"
      ]
    },
    {
      "cell_type": "code",
      "metadata": {
        "id": "eRaBCKXsMl6b"
      },
      "source": [
        "# Fully custom model, each column has custom embedding layer whose\n",
        "# features are processed and concatenated at the end.\n",
        "\n",
        "max_features = 40\n",
        "embedding_dim = 128 \n",
        "\n",
        "def get_char_model(n):\n",
        "  input_title = keras.Input(shape=(4096,), dtype=\"int64\")\n",
        "  input_desc = keras.Input(shape=(4096,), dtype=\"int64\")\n",
        "  input_bullets = keras.Input(shape=(4096,), dtype=\"int64\")\n",
        "  input_brand = keras.Input(shape=(128,), dtype=\"int64\")\n",
        "\n",
        "  embedding_title = layers.Embedding(max_features, embedding_dim)(input_title)\n",
        "  embedding_desc = layers.Embedding(max_features, embedding_dim)(input_desc)\n",
        "  embedding_bullets = layers.Embedding(max_features, embedding_dim)(input_bullets)\n",
        "  embedding_brand = layers.Embedding(max_features, embedding_dim//8)(input_brand)\n",
        "\n",
        "  title_drop = layers.Dropout(0.5)(embedding_title)\n",
        "  desc_drop = layers.Dropout(0.5)(embedding_desc)\n",
        "  bullets_drop = layers.Dropout(0.5)(embedding_bullets)\n",
        "  brand_drop = layers.Dropout(0.5)(embedding_brand)\n",
        "\n",
        "  title_conv1 = layers.Conv1D(128, 7, padding=\"valid\", activation=\"relu\", strides=1)(title_drop)\n",
        "  title_conv1 = layers.Conv1D(128, 7, padding=\"valid\", activation=\"relu\", strides=3)(title_conv1)\n",
        "  title_conv1 = layers.Conv1D(128, 7, padding=\"valid\", activation=\"relu\", strides=3)(title_conv1)\n",
        "  title_conv1 = layers.GlobalMaxPooling1D()(title_conv1)\n",
        "\n",
        "  desc_conv1 = layers.Conv1D(128, 7, padding=\"valid\", activation=\"relu\", strides=1)(desc_drop)\n",
        "  desc_conv1 = layers.Conv1D(128, 7, padding=\"valid\", activation=\"relu\", strides=3)(desc_conv1)\n",
        "  desc_conv1 = layers.Conv1D(128, 7, padding=\"valid\", activation=\"relu\", strides=3)(desc_conv1)\n",
        "  desc_conv1 = layers.GlobalMaxPooling1D()(desc_conv1)\n",
        "\n",
        "  bullets_conv1 = layers.Conv1D(128, 7, padding=\"valid\", activation=\"relu\", strides=1)(bullets_drop)\n",
        "  bullets_conv1 = layers.Conv1D(128, 7, padding=\"valid\", activation=\"relu\", strides=3)(bullets_conv1)\n",
        "  bullets_conv1 = layers.Conv1D(128, 7, padding=\"valid\", activation=\"relu\", strides=3)(bullets_conv1)\n",
        "  bullets_conv1 = layers.GlobalMaxPooling1D()(bullets_conv1)\n",
        "\n",
        "  brand_conv1 = layers.Conv1D(128, 7, padding=\"valid\", activation=\"relu\", strides=1)(brand_drop)\n",
        "  brand_conv1 = layers.Conv1D(128, 7, padding=\"valid\", activation=\"relu\", strides=3)(brand_conv1)\n",
        "  brand_conv1 = layers.Conv1D(128, 7, padding=\"valid\", activation=\"relu\", strides=3)(brand_conv1)\n",
        "  brand_conv1 = layers.GlobalMaxPooling1D()(brand_conv1)\n",
        "\n",
        "  concat = layers.Concatenate()([title_conv1, desc_conv1, bullets_conv1, brand_conv1])\n",
        "  dense = layers.Dense(2048, activation=\"relu\")(concat)\n",
        "  dense = layers.Dropout(0.5)(dense)\n",
        "\n",
        "  predictions = layers.Dense(n, activation=\"softmax\", name=\"predictions\")(dense)\n",
        "\n",
        "  model = tf.keras.Model(inputs=[input_title, input_desc, input_bullets, input_brand], \n",
        "                    outputs=[predictions])\n",
        "  \n",
        "  model.compile(loss=\"categorical_crossentropy\", optimizer=\"adam\", metrics=[\"accuracy\"])\n",
        "  \n",
        "  return model"
      ],
      "execution_count": null,
      "outputs": []
    },
    {
      "cell_type": "code",
      "metadata": {
        "id": "rFiM0apb0jCB",
        "colab": {
          "base_uri": "https://localhost:8080/"
        },
        "outputId": "46ecbeac-59a9-477c-cfda-f4c20cd73e36"
      },
      "source": [
        "model = get_char_model(1500)\n",
        "model.summary()"
      ],
      "execution_count": null,
      "outputs": [
        {
          "output_type": "stream",
          "text": [
            "Model: \"model\"\n",
            "__________________________________________________________________________________________________\n",
            "Layer (type)                    Output Shape         Param #     Connected to                     \n",
            "==================================================================================================\n",
            "input_1 (InputLayer)            [(None, 4096)]       0                                            \n",
            "__________________________________________________________________________________________________\n",
            "input_2 (InputLayer)            [(None, 4096)]       0                                            \n",
            "__________________________________________________________________________________________________\n",
            "input_3 (InputLayer)            [(None, 4096)]       0                                            \n",
            "__________________________________________________________________________________________________\n",
            "input_4 (InputLayer)            [(None, 128)]        0                                            \n",
            "__________________________________________________________________________________________________\n",
            "embedding (Embedding)           (None, 4096, 128)    5120        input_1[0][0]                    \n",
            "__________________________________________________________________________________________________\n",
            "embedding_1 (Embedding)         (None, 4096, 128)    5120        input_2[0][0]                    \n",
            "__________________________________________________________________________________________________\n",
            "embedding_2 (Embedding)         (None, 4096, 128)    5120        input_3[0][0]                    \n",
            "__________________________________________________________________________________________________\n",
            "embedding_3 (Embedding)         (None, 128, 16)      640         input_4[0][0]                    \n",
            "__________________________________________________________________________________________________\n",
            "dropout (Dropout)               (None, 4096, 128)    0           embedding[0][0]                  \n",
            "__________________________________________________________________________________________________\n",
            "dropout_1 (Dropout)             (None, 4096, 128)    0           embedding_1[0][0]                \n",
            "__________________________________________________________________________________________________\n",
            "dropout_2 (Dropout)             (None, 4096, 128)    0           embedding_2[0][0]                \n",
            "__________________________________________________________________________________________________\n",
            "dropout_3 (Dropout)             (None, 128, 16)      0           embedding_3[0][0]                \n",
            "__________________________________________________________________________________________________\n",
            "conv1d (Conv1D)                 (None, 4090, 128)    114816      dropout[0][0]                    \n",
            "__________________________________________________________________________________________________\n",
            "conv1d_3 (Conv1D)               (None, 4090, 128)    114816      dropout_1[0][0]                  \n",
            "__________________________________________________________________________________________________\n",
            "conv1d_6 (Conv1D)               (None, 4090, 128)    114816      dropout_2[0][0]                  \n",
            "__________________________________________________________________________________________________\n",
            "conv1d_9 (Conv1D)               (None, 122, 128)     14464       dropout_3[0][0]                  \n",
            "__________________________________________________________________________________________________\n",
            "conv1d_1 (Conv1D)               (None, 1362, 128)    114816      conv1d[0][0]                     \n",
            "__________________________________________________________________________________________________\n",
            "conv1d_4 (Conv1D)               (None, 1362, 128)    114816      conv1d_3[0][0]                   \n",
            "__________________________________________________________________________________________________\n",
            "conv1d_7 (Conv1D)               (None, 1362, 128)    114816      conv1d_6[0][0]                   \n",
            "__________________________________________________________________________________________________\n",
            "conv1d_10 (Conv1D)              (None, 39, 128)      114816      conv1d_9[0][0]                   \n",
            "__________________________________________________________________________________________________\n",
            "conv1d_2 (Conv1D)               (None, 452, 128)     114816      conv1d_1[0][0]                   \n",
            "__________________________________________________________________________________________________\n",
            "conv1d_5 (Conv1D)               (None, 452, 128)     114816      conv1d_4[0][0]                   \n",
            "__________________________________________________________________________________________________\n",
            "conv1d_8 (Conv1D)               (None, 452, 128)     114816      conv1d_7[0][0]                   \n",
            "__________________________________________________________________________________________________\n",
            "conv1d_11 (Conv1D)              (None, 11, 128)      114816      conv1d_10[0][0]                  \n",
            "__________________________________________________________________________________________________\n",
            "global_max_pooling1d (GlobalMax (None, 128)          0           conv1d_2[0][0]                   \n",
            "__________________________________________________________________________________________________\n",
            "global_max_pooling1d_1 (GlobalM (None, 128)          0           conv1d_5[0][0]                   \n",
            "__________________________________________________________________________________________________\n",
            "global_max_pooling1d_2 (GlobalM (None, 128)          0           conv1d_8[0][0]                   \n",
            "__________________________________________________________________________________________________\n",
            "global_max_pooling1d_3 (GlobalM (None, 128)          0           conv1d_11[0][0]                  \n",
            "__________________________________________________________________________________________________\n",
            "concatenate (Concatenate)       (None, 512)          0           global_max_pooling1d[0][0]       \n",
            "                                                                 global_max_pooling1d_1[0][0]     \n",
            "                                                                 global_max_pooling1d_2[0][0]     \n",
            "                                                                 global_max_pooling1d_3[0][0]     \n",
            "__________________________________________________________________________________________________\n",
            "dense (Dense)                   (None, 2048)         1050624     concatenate[0][0]                \n",
            "__________________________________________________________________________________________________\n",
            "dropout_4 (Dropout)             (None, 2048)         0           dense[0][0]                      \n",
            "__________________________________________________________________________________________________\n",
            "predictions (Dense)             (None, 1500)         3073500     dropout_4[0][0]                  \n",
            "==================================================================================================\n",
            "Total params: 5,417,564\n",
            "Trainable params: 5,417,564\n",
            "Non-trainable params: 0\n",
            "__________________________________________________________________________________________________\n"
          ],
          "name": "stdout"
        }
      ]
    },
    {
      "cell_type": "code",
      "metadata": {
        "id": "snFuoGVB6w0K"
      },
      "source": [
        "# split train and validation data\n",
        "\n",
        "def get_train_test(df, n):\n",
        "  label_counts = df.BROWSE_NODE_ID.value_counts()\n",
        "  n_large = label_counts.nlargest(n)\n",
        "  new_df = df[df[\"BROWSE_NODE_ID\"].isin(n_large.index)]\n",
        "  new_df.reset_index(drop=True, inplace=True)\n",
        "  train, test = train_test_split(new_df, test_size=0.0001)\n",
        "  train.reset_index(drop=True, inplace=True)\n",
        "  test.reset_index(drop=True, inplace=True)\n",
        "\n",
        "  le = preprocessing.LabelEncoder()\n",
        "  le.fit(new_df[\"BROWSE_NODE_ID\"].values)\n",
        "\n",
        "  return train, test, le\n",
        "\n",
        "train, test, le = get_train_test(df, 1500)"
      ],
      "execution_count": null,
      "outputs": []
    },
    {
      "cell_type": "markdown",
      "metadata": {
        "id": "mg4mRqhEZoyB"
      },
      "source": [
        "## Make data generators"
      ]
    },
    {
      "cell_type": "code",
      "metadata": {
        "id": "djYDY5lqZsFt"
      },
      "source": [
        "# Custom Data geerator to use batching to avoid out of memory errors\n",
        "\n",
        "class DataGeneratorWord(Sequence):\n",
        "    def __init__(self, df, to_fit, le, batch_size=64, shuffle=False, n=1500, augmentation_rate=0.2):\n",
        "      \n",
        "        self.df = df\n",
        "        self.le = le\n",
        "        self.n = n\n",
        "        self.to_fit = to_fit\n",
        "        self.batch_size = batch_size\n",
        "        self.shuffle = shuffle\n",
        "        self.epoch = 0\n",
        "        self.on_epoch_end()\n",
        "        self.vectorizer = get_char_vectorizer()\n",
        "        self.augmentation_rate = augmentation_rate\n",
        "    \n",
        "    def __len__(self):\n",
        "        return int(len(self.df) // self.batch_size)\n",
        "\n",
        "    def add_spaces(self, sentence):\n",
        "      mod = \"\"\n",
        "      for char in sentence:\n",
        "        mod += char + \" \"\n",
        "      return mod[:-1]\n",
        "\n",
        "    def augment(self, text):\n",
        "      if np.random.random() < self.augmentation_rate:\n",
        "        text = \"\"\n",
        "      return text\n",
        "\n",
        "\n",
        "    def __getitem__(self, index):\n",
        "        # Generate indexes of the batch\n",
        "        current_indexes = list(range(index * self.batch_size, (index + 1) * self.batch_size))\n",
        "        data_points = self.df.loc[current_indexes].values\n",
        "\n",
        "        # Generate data\n",
        "        X = []\n",
        "        y = np.zeros([self.batch_size, self.n])\n",
        "\n",
        "        titles = []\n",
        "        descs = []\n",
        "        bullets = []\n",
        "        brands = []\n",
        "\n",
        "        idx = 0\n",
        "        for title, desc, bullet, brand, label in data_points:\n",
        "          titles.append(self.add_spaces(self.augment(title)))\n",
        "          descs.append(self.add_spaces(self.augment(desc)))\n",
        "          bullets.append(self.add_spaces(self.augment(bullet)))\n",
        "          brands.append(self.add_spaces(self.augment(brand)))\n",
        "\n",
        "          y[idx, self.le.transform([label])] = 1\n",
        "          idx += 1\n",
        "\n",
        "        if self.to_fit:\n",
        "            return [self.vectorizer(titles), self.vectorizer(descs),\n",
        "                    self.vectorizer(bullets), self.vectorizer(brands)[:, :128]], y\n",
        "        else:\n",
        "            return [self.vectorizer(titles), self.vectorizer(descs),\n",
        "                    self.vectorizer(bullets), self.vectorizer(brands)[:, :128]]\n",
        "\n",
        "    def on_epoch_end(self):\n",
        "        if self.shuffle == True:\n",
        "            indices = np.arange(len(self.df))\n",
        "            np.random.shuffle(indices)\n",
        "            self.df = self.df.loc[indices]\n",
        "        self.epoch += 1"
      ],
      "execution_count": null,
      "outputs": []
    },
    {
      "cell_type": "code",
      "metadata": {
        "colab": {
          "base_uri": "https://localhost:8080/"
        },
        "id": "IjZeq02Htf3b",
        "outputId": "b4a72bb4-9329-4dae-ee14-d29b54bd5bff"
      },
      "source": [
        "# Assign weight labels according to class frequency distribution \n",
        "\n",
        "from sklearn.utils.class_weight import compute_class_weight\n",
        "class_wts = compute_class_weight('balanced', np.unique(le.classes_), train[\"BROWSE_NODE_ID\"])\n",
        "\n",
        "weight_dict = {}\n",
        "for label, weight in zip(le.transform(le.classes_), class_wts):\n",
        "  weight_dict[label] = weight\n",
        "print(weight_dict)"
      ],
      "execution_count": null,
      "outputs": [
        {
          "output_type": "stream",
          "text": [
            "{0: 0.5689990984899707, 1: 1.0357534358974358, 2: 5.054352352352352, 3: 0.05007286863217604, 4: 0.024111098377407863, 5: 0.45244605734767024, 6: 6.351318238993711, 7: 2.613508281573499, 8: 0.08480371508708286, 9: 5.783846506300114, 10: 2.4934804938271604, 11: 1.0893846817691477, 12: 5.98967734282325, 13: 1.2117345812335014, 14: 0.18849807742561692, 15: 0.9923934748427673, 16: 6.983814661134163, 17: 5.482408251900108, 18: 3.869193869731801, 19: 3.4070836707152496, 20: 0.4912724265421288, 21: 0.8238371675640398, 22: 1.1761700442580947, 23: 0.5306113913408995, 24: 0.11395391559467388, 25: 4.950292156862745, 26: 1.8136846264367816, 27: 6.705575033200531, 28: 0.9192241034043328, 29: 0.15015606506676182, 30: 0.7143885116015846, 31: 6.652566534914361, 32: 4.795154795821462, 33: 1.2039337148307105, 34: 4.906995140913509, 35: 0.376195648934585, 36: 0.22519391668896618, 37: 1.158361550814407, 38: 0.594944974667138, 39: 0.7232915055149692, 40: 0.30039252781248144, 41: 5.1787671794871795, 42: 0.920732676878191, 43: 0.5018185251441065, 44: 0.33256260291115064, 45: 0.08625086262854019, 46: 0.9791153771572619, 47: 0.24675257782338855, 48: 3.434896598639456, 49: 2.3907660984848484, 50: 4.271825719120136, 51: 2.9322288037166087, 52: 1.5715213196389668, 53: 6.652566534914361, 54: 3.756918154761905, 55: 2.2471286159323545, 56: 4.586101725703905, 57: 1.2056585482330469, 58: 4.176425144747725, 59: 0.3730273345153664, 60: 2.847883812746757, 61: 4.0556610441767065, 62: 0.848764162044041, 63: 0.23005731729542556, 64: 0.7480441481481481, 65: 1.5455457606366698, 66: 3.5963660968660967, 67: 4.383071180555556, 68: 3.8781090629800308, 69: 6.62637532808399, 70: 1.5555446703635243, 71: 1.0332101493758952, 72: 4.548917117117117, 73: 3.0435792646172395, 74: 6.983814661134163, 75: 2.68865708200213, 76: 2.937346131471786, 77: 2.0132767145135566, 78: 2.077900411522634, 79: 1.9989303246239114, 80: 4.6112310502283105, 81: 0.8858417543859649, 82: 1.2403090149840335, 83: 0.7054062587314892, 84: 3.7072672540381792, 85: 1.037669132757912, 86: 2.253145024542615, 87: 0.39132744323025653, 88: 6.054314148681055, 89: 1.0768389848581787, 90: 4.218294068504595, 91: 4.573639492753623, 92: 5.500324618736383, 93: 0.7033428054046524, 94: 0.44408953386103783, 95: 0.7788520746567947, 96: 3.969573899371069, 97: 0.3101343897794976, 98: 2.8287383753501403, 99: 3.960233725490196, 100: 1.0473549056212403, 101: 2.194392872664059, 102: 0.35285101327742835, 103: 4.512330652368186, 104: 0.6385050581689429, 105: 0.32150894619547915, 106: 5.292765199161425, 107: 3.3001947712418302, 108: 5.844094907407407, 109: 0.9063539759468677, 110: 0.3916917229074548, 111: 3.4560561259411364, 112: 1.7262557264957266, 113: 1.462293078482479, 114: 5.276173458725183, 115: 0.8504797035539835, 116: 3.0435792646172395, 117: 0.5457520536100303, 118: 1.8020335474660956, 119: 2.5696173027989824, 120: 4.586101725703905, 121: 1.0865715515386272, 122: 0.6151678849902534, 123: 1.162361418047882, 124: 0.12106886299333429, 125: 3.8339392558845864, 126: 0.18682421282421283, 127: 0.8150602098466505, 128: 7.012913888888889, 129: 0.44751378179562173, 130: 0.4045911858974359, 131: 2.7819823691460055, 132: 5.482408251900108, 133: 6.6003895424836605, 134: 3.4919073305670816, 135: 1.4855245660488379, 136: 1.8680347761746208, 137: 1.434867291844274, 138: 1.5893289266603714, 139: 0.1895168712232106, 140: 0.9785461240310077, 141: 2.9069073114565342, 142: 2.277536310329274, 143: 5.24330010384216, 144: 5.069576305220884, 145: 0.7245369493471087, 146: 0.2712051777849393, 147: 1.5774126835363949, 148: 3.9233084693084694, 149: 2.4463653100775193, 150: 3.199808618504436, 151: 1.4179438360011232, 152: 2.324722836095764, 153: 0.17417979233502362, 154: 0.6091564724333454, 155: 2.8770928774928777, 156: 1.769820539782685, 157: 5.629094760312151, 158: 5.803790804597702, 159: 0.6448656449553001, 160: 3.9051028615622583, 161: 5.783846506300114, 162: 0.9785461240310077, 163: 0.6411806984126984, 164: 1.8659637841832963, 165: 0.24581558833552408, 166: 0.05289438508275718, 167: 3.463167352537723, 168: 1.094342869527525, 169: 2.901895402298851, 170: 2.2351916777335106, 171: 4.488264888888889, 172: 1.2152341756919374, 173: 3.4002006734006733, 174: 1.1457449512139777, 175: 5.884962703962704, 176: 6.351318238993711, 177: 0.17559721787515215, 178: 4.754517890772128, 179: 2.759179234972678, 180: 1.2205216340343243, 181: 0.4733125234345707, 182: 1.4738172796263864, 183: 1.0441062861869312, 184: 0.8962190273340433, 185: 0.15306469019037225, 186: 2.0727824302134645, 187: 0.5004755674496977, 188: 0.7578114963229776, 189: 1.8254873463485177, 190: 1.0120861896171578, 191: 0.329502610284521, 192: 0.541537752037752, 193: 6.011069047619047, 194: 0.2507970992897233, 195: 3.666883079157589, 196: 0.9273274563820019, 197: 6.120361212121212, 198: 0.5139234605597964, 199: 1.6565938320209974, 200: 3.7154510669610006, 201: 5.724827664399093, 202: 0.5471714347637625, 203: 5.803790804597702, 204: 0.1322463528980383, 205: 4.464454465075154, 206: 3.5810624113475176, 207: 2.35069739292365, 208: 2.0804688916357645, 209: 4.97958382642998, 210: 1.31082502596054, 211: 4.476328014184397, 212: 1.3347338091461802, 213: 3.280895386614685, 214: 0.7810205723124517, 215: 0.8373628524046435, 216: 4.754517890772128, 217: 5.500324618736383, 218: 4.892730620155039, 219: 0.2816431280678269, 220: 6.233701234567901, 221: 7.042256624825662, 222: 1.7661063308849247, 223: 3.914184496124031, 224: 1.7459536652835408, 225: 5.009224206349207, 226: 4.6112310502283105, 227: 0.6875405773420479, 228: 1.403752571587434, 229: 0.29720984166225206, 230: 0.947691066066066, 231: 0.700124514697726, 232: 0.7330572009291522, 233: 2.891923253150057, 234: 5.803790804597702, 235: 6.869793197278912, 236: 4.176425144747725, 237: 1.4275651682216568, 238: 1.4179438360011232, 239: 2.1197724601175483, 240: 2.6175728356661483, 241: 1.3573381720430107, 242: 0.3873646336785577, 243: 1.9731527940601798, 244: 2.7103048845947395, 245: 1.5469662990196078, 246: 2.250132798573975, 247: 1.8394528233151184, 248: 3.0825995115995117, 249: 0.33335300719614447, 250: 1.4635646376811595, 251: 2.7059474812433013, 252: 1.7087302876480541, 253: 0.4664909460458241, 254: 0.6536308090614886, 255: 1.3807213563029805, 256: 4.2610109704641355, 257: 1.2683491585028888, 258: 1.1737094374709438, 259: 1.1761700442580947, 260: 2.324722836095764, 261: 4.145564860426929, 262: 0.6406925517066362, 263: 3.122633271490414, 264: 2.8145473801560756, 265: 1.4699557496360989, 266: 0.9450305072056897, 267: 3.790764264264264, 268: 1.0480070568700706, 269: 3.5963660968660967, 270: 0.26822300132802124, 271: 2.0934071310116087, 272: 1.2828501016260163, 273: 0.7513836309523809, 274: 0.3567400028260562, 275: 2.1065073007926576, 276: 2.160589644843817, 277: 2.7819823691460055, 278: 1.4072736900780378, 279: 6.6003895424836605, 280: 3.1577848655409633, 281: 2.070232882328823, 282: 6.256874845105329, 283: 3.3527875166002654, 284: 2.311949633699634, 285: 1.3263194116101917, 286: 2.435744331886155, 287: 4.0951321978913215, 288: 2.11179339188624, 289: 4.512330652368186, 290: 0.2191820983635022, 291: 0.07204740093888674, 292: 4.950292156862745, 293: 4.878548792270531, 294: 1.6372561608300908, 295: 0.5147092762487258, 296: 4.0362094324540365, 297: 4.383071180555556, 298: 4.29362074829932, 299: 1.8784590773809524, 300: 2.6758335983041865, 301: 1.7735504039339656, 302: 3.0713491484184914, 303: 3.8960632716049384, 304: 3.6118011444921314, 305: 4.822634192932187, 306: 4.573639492753623, 307: 5.162881390593047, 308: 0.08962190273340433, 309: 3.816551776266062, 310: 1.0605540852762025, 311: 0.28721831626848693, 312: 1.7087302876480541, 313: 5.482408251900108, 314: 4.476328014184397, 315: 1.2134818553232396, 316: 3.8339392558845864, 317: 3.93247507788162, 318: 0.3453928449278336, 319: 0.2694252174377034, 320: 2.3215163218390806, 321: 0.7437469435852113, 322: 4.795154795821462, 323: 1.8039649874955341, 324: 2.763709906951286, 325: 0.9672984674329502, 326: 0.06557189236922757, 327: 2.6800944798301485, 328: 4.394515230635335, 329: 0.7681877377148942, 330: 0.18457060350184595, 331: 0.28197341821634, 332: 3.969573899371069, 333: 4.675275925925926, 334: 0.5244934039680067, 335: 0.6816927230997705, 336: 2.3806214049976426, 337: 2.083043729372937, 338: 0.2945571111888928, 339: 0.10508205864602194, 340: 0.3538896832071769, 341: 0.21049266299816574, 342: 0.15967169465262626, 343: 0.2642643010415031, 344: 0.26265595089471494, 345: 0.7738387739463601, 346: 4.8504303554274735, 347: 2.937346131471786, 348: 1.3595309639203015, 349: 0.3841815415049836, 350: 3.2120216284987277, 351: 1.3595309639203015, 352: 4.155800823045268, 353: 2.370562441314554, 354: 1.4410097031963471, 355: 2.3639035580524346, 356: 4.964894788593903, 357: 0.17688905237344543, 358: 4.105120325203252, 359: 3.1284374225526643, 360: 3.0163070489844683, 361: 1.4275651682216568, 362: 1.263588088088088, 363: 0.506499949844518, 364: 4.935775171065494, 365: 1.1712591046160983, 366: 3.773765321375187, 367: 0.6346528406234289, 368: 6.678965608465608, 369: 2.3311625115420127, 370: 0.19013774664859165, 371: 0.4772042340043474, 372: 0.2019557635389169, 373: 1.185281220657277, 374: 0.6727015720756728, 375: 2.550150505050505, 376: 5.4646082251082255, 377: 0.266650718208703, 378: 2.911936562860438, 379: 0.20618636939033852, 380: 5.429352688172043, 381: 2.1495521498510004, 382: 3.060180606060606, 383: 0.8166420831311662, 384: 4.836492337164751, 385: 0.17136014389465826, 386: 6.498453024453024, 387: 0.877528328119569, 388: 0.3159563231337213, 389: 1.6864722778891115, 390: 0.40169435163086714, 391: 5.610331111111111, 392: 5.554783278327832, 393: 4.0951321978913215, 394: 3.3328699669966997, 395: 4.0951321978913215, 396: 1.7848349240014139, 397: 6.954955922865014, 398: 5.227016563146998, 399: 1.003637050288213, 400: 0.9584848139711466, 401: 0.44691963179323774, 402: 1.9169696279422932, 403: 2.075338265515824, 404: 0.2845957614699583, 405: 0.3931556489916686, 406: 1.7087302876480541, 407: 5.573176600441501, 408: 4.166087458745874, 409: 1.2222943597191964, 410: 2.152300937766411, 411: 0.2920019662271571, 412: 2.777391639163916, 413: 5.610331111111111, 414: 3.969573899371069, 415: 1.1551814230153283, 416: 0.12195488249643746, 417: 1.4049243183082916, 418: 0.6903606781514903, 419: 0.36017533347599684, 420: 1.2439758561221976, 421: 1.3400472399150742, 422: 0.2168383578115606, 423: 2.35069739292365, 424: 1.9147887751232462, 425: 0.05277496968936828, 426: 4.573639492753623, 427: 2.3539850815850816, 428: 0.9802558726460882, 429: 0.48143573607932877, 430: 0.20075135178117048, 431: 0.3443329241680306, 432: 5.518358469945356, 433: 0.007841243219487499, 434: 0.08403731442646961, 435: 0.03723588711164207, 436: 1.7716835087719298, 437: 0.21517506179152818, 438: 1.0269062436444987, 439: 0.31465682058951827, 440: 2.4715115026921195, 441: 1.769820539782685, 442: 0.5246568994181213, 443: 0.6543932089165371, 444: 0.11315714221684371, 445: 2.5973755144032924, 446: 0.961221778031601, 447: 1.8294557971014493, 448: 2.1144463986599664, 449: 4.7145639589169, 450: 6.523640826873385, 451: 4.586101725703905, 452: 1.1903107024988213, 453: 0.5752219184324447, 454: 4.4526437389770726, 455: 1.4673926184248764, 456: 3.2873033854166667, 457: 3.420933604336043, 458: 0.619014098320461, 459: 2.791209508015478, 460: 2.8239921700223714, 461: 4.065457326892109, 462: 4.0951321978913215, 463: 1.313894873796513, 464: 6.4240432569974555, 465: 0.3414687225265436, 466: 0.3096209222467501, 467: 0.26501327874875347, 468: 1.1288392577688353, 469: 2.852710734463277, 470: 0.6183318638256184, 471: 0.09977469520026874, 472: 0.6240635273760969, 473: 1.3875509755427315, 474: 1.232137140068326, 475: 0.0654393208916537, 476: 0.7012913888888889, 477: 2.795846068660022, 478: 2.7865883002207505, 479: 2.2411442521083003, 480: 0.4750492050051745, 481: 0.2007274100576426, 482: 0.13217365582953772, 483: 1.9147887751232462, 484: 2.6175728356661483, 485: 2.8382788083192807, 486: 3.145980062305296, 487: 7.131776836158192, 488: 1.717448299319728, 489: 0.42172371168462375, 490: 5.210833849329205, 491: 1.3762055055873534, 492: 0.542060976918948, 493: 0.8784443284620738, 494: 1.476402923976608, 495: 6.142698296836983, 496: 0.5920152421151366, 497: 1.2867731906218145, 498: 0.032504815243980946, 499: 0.1315332395540273, 500: 3.6910073099415204, 501: 0.5512935910033846, 502: 0.6775762211486849, 503: 7.131776836158192, 504: 5.162881390593047, 505: 1.8334415395787944, 506: 0.18818194692903994, 507: 0.9639744177166858, 508: 2.7234617044228693, 509: 0.05265938718895355, 510: 0.17713106012769242, 511: 7.042256624825662, 512: 1.0163643317230273, 513: 0.1632492078887811, 514: 1.9368231683927886, 515: 0.37344116559426077, 516: 0.947691066066066, 517: 4.662325023084025, 518: 0.44620873100035346, 519: 4.115157294213529, 520: 0.25386113624937157, 521: 0.4484677147171152, 522: 0.7927929031245093, 523: 0.3172068099007413, 524: 2.48979191321499, 525: 4.536655884995508, 526: 0.49781110125209505, 527: 2.4534975704567543, 528: 4.075301049233253, 529: 2.6380867293625916, 530: 6.011069047619047, 531: 5.292765199161425, 532: 0.15523882432515526, 533: 1.9777900509204858, 534: 5.227016563146998, 535: 1.4447204577968527, 536: 3.0657547055251975, 537: 1.0823789924973204, 538: 1.841465353756382, 539: 6.21069864698647, 540: 1.0693134265141888, 541: 2.8051655555555555, 542: 3.7072672540381792, 543: 1.0768389848581787, 544: 1.174528494998837, 545: 4.573639492753623, 546: 2.795846068660022, 547: 0.7905586347267888, 548: 2.994838671411625, 549: 0.33368345228654506, 550: 6.351318238993711, 551: 2.9842186761229312, 552: 3.0435792646172395, 553: 3.1816622558286074, 554: 1.769820539782685, 555: 2.0626217320261437, 556: 0.5494937425182284, 557: 1.3242323629687909, 558: 2.6843689526847423, 559: 0.8784443284620738, 560: 0.20681977553862538, 561: 2.006077870480731, 562: 1.5968684376976596, 563: 1.3717190980711762, 564: 1.2412236971484758, 565: 3.3328699669966997, 566: 1.7624076788830716, 567: 5.1787671794871795, 568: 2.35069739292365, 569: 0.20755941957495785, 570: 0.40576165220186433, 571: 0.8853757671401017, 572: 5.162881390593047, 573: 3.1696785938480856, 574: 0.656179077322937, 575: 3.0217223219628964, 576: 0.33675456849406427, 577: 3.85148588863463, 578: 0.9122489611562782, 579: 4.2610109704641355, 580: 3.1110893407270486, 581: 0.1518494526645014, 582: 0.19740785049652046, 583: 1.1737094374709438, 584: 0.947691066066066, 585: 0.5691915229399166, 586: 1.4096309324399776, 587: 0.8266696136214801, 588: 2.3279382203780545, 589: 1.1243148519260744, 590: 0.7916741925368455, 591: 2.1386268530283776, 592: 2.8770928774928777, 593: 1.5968684376976596, 594: 0.38252257575757576, 595: 4.105120325203252, 596: 1.5027672619047618, 597: 2.534788152610442, 598: 6.549024643320363, 599: 5.227016563146998, 600: 1.4881514883583848, 601: 4.3156393162393165, 602: 1.7754212376933896, 603: 1.2339437927663734, 604: 0.10490521898113521, 605: 3.8870654349499616, 606: 0.454400467962563, 607: 3.6748893740902475, 608: 4.115157294213529, 609: 0.9970967614533965, 610: 3.1518714107365793, 611: 2.3672283169245194, 612: 0.06662309833880906, 613: 1.1996431456402945, 614: 1.267394076305221, 615: 2.5083447590660706, 616: 1.3875509755427315, 617: 1.0816833761782347, 618: 6.678965608465608, 619: 0.5532870918255534, 620: 1.7568886569241475, 621: 1.2240722424242425, 622: 4.326733504712939, 623: 1.1712591046160983, 624: 1.2523060515873017, 625: 6.574606770833333, 626: 1.381854953475643, 627: 1.4143691876750701, 628: 2.9322288037166087, 629: 3.0271570743405274, 630: 4.675275925925926, 631: 1.7905312056737588, 632: 1.6014265778623533, 633: 0.786495015576324, 634: 0.9854211553473848, 635: 1.3807213563029805, 636: 5.446923408845739, 637: 1.8975189778278843, 638: 1.6075447309773958, 639: 4.207748333333333, 640: 4.085192556634304, 641: 2.0727824302134645, 642: 2.001307173999207, 643: 0.9519792609351433, 644: 0.6917794218386081, 645: 4.476328014184397, 646: 5.24330010384216, 647: 1.69838479650185, 648: 1.4263553672316385, 649: 1.2082550849485523, 650: 4.906995140913509, 651: 1.7052678149273894, 652: 6.303742821473159, 653: 0.2182442081604426, 654: 2.6380867293625916, 655: 0.8462037874979051, 656: 2.042596278317152, 657: 1.817601871850252, 658: 1.0357534358974358, 659: 1.8078403150733977, 660: 2.0253902928198957, 661: 0.2845476472245703, 662: 2.7059474812433013, 663: 1.3762055055873534, 664: 1.4534536557282671, 665: 2.2263218694885363, 666: 3.969573899371069, 667: 0.37286205878009154, 668: 2.0934071310116087, 669: 6.256874845105329, 670: 0.5924320075090931, 671: 3.2367294871794874, 672: 2.1065073007926576, 673: 1.3661520562770564, 674: 6.0761708784596875, 675: 2.0181047162270183, 676: 0.7557697949408771, 677: 0.409812352893434, 678: 2.253145024542615, 679: 3.054626739261948, 680: 2.8624138321995467, 681: 1.9525514307811291, 682: 1.5204149352604637, 683: 2.3672283169245194, 684: 2.2837168701944823, 685: 1.3909911845730027, 686: 0.9723277488927402, 687: 5.500324618736383, 688: 1.1680078649086283, 689: 1.3006950025759918, 690: 2.8430731981981983, 691: 5.343172486772486, 692: 3.4703079037800686, 693: 3.988387045813586, 694: 1.602951746031746, 695: 6.926334705075446, 696: 4.97958382642998, 697: 6.841867208672086, 698: 2.5462924861321232, 699: 1.6183647435897437, 700: 1.1058471309680244, 701: 1.0402344458178823, 702: 1.0151383192601529, 703: 3.280895386614685, 704: 2.6013900051519836, 705: 5.024177114427861, 706: 0.7724182346642191, 707: 0.8344567840026442, 708: 5.844094907407407, 709: 2.7234617044228693, 710: 0.8274824647656506, 711: 0.9334993529303014, 712: 1.6614998354721948, 713: 3.6273692528735633, 714: 2.3056155251141552, 715: 1.9731527940601798, 716: 7.101684950773558, 717: 2.777391639163916, 718: 0.7727728803183349, 719: 6.786690860215054, 720: 0.9929789577187808, 721: 4.512330652368186, 722: 1.4275651682216568, 723: 1.624613256113256, 724: 3.4703079037800686, 725: 5.009224206349207, 726: 1.7405370561875215, 727: 3.6748893740902475, 728: 3.748550853749072, 729: 1.9061147602869006, 730: 0.7220503360503361, 731: 4.781532196969697, 732: 5.518358469945356, 733: 1.0084477731176353, 734: 2.464274280136652, 735: 3.9509374021909234, 736: 1.061222782681799, 737: 1.2779797519615288, 738: 0.8307499177360974, 739: 1.7298040424803014, 740: 0.6745889111556447, 741: 0.6332202157010284, 742: 1.5908311279143037, 743: 1.395604754007739, 744: 1.4227382361228516, 745: 6.814167341430499, 746: 1.7867296532200991, 747: 2.550150505050505, 748: 1.2966866974833076, 749: 2.6380867293625916, 750: 1.2897312899106002, 751: 0.7784918285538082, 752: 0.17075168239153224, 753: 5.115803444782168, 754: 1.530090303030303, 755: 1.6932588866532527, 756: 0.7615834087481146, 757: 1.7069972954699122, 758: 4.135379197379198, 759: 0.5707356165931954, 760: 1.6864722778891115, 761: 6.187865196078431, 762: 1.6060108142493639, 763: 1.954819202477739, 764: 1.318010441138084, 765: 3.448974043715847, 766: 1.613709811441355, 767: 0.6056492743192995, 768: 2.2292706401766003, 769: 3.9509374021909234, 770: 1.4816015258215962, 771: 3.280895386614685, 772: 2.265275011215792, 773: 4.6112310502283105, 774: 1.051280033312513, 775: 3.3066784544859202, 776: 0.7490428719774515, 777: 1.3098049286640727, 778: 7.192732193732193, 779: 5.744366325369739, 780: 5.24330010384216, 781: 4.808855238095238, 782: 4.994360039564787, 783: 6.327441102756892, 784: 4.476328014184397, 785: 4.105120325203252, 786: 1.037669132757912, 787: 4.906995140913509, 788: 3.9051028615622583, 789: 2.896900745840505, 790: 1.3717190980711762, 791: 1.6797398536260812, 792: 1.4096309324399776, 793: 1.9345969348659005, 794: 7.0718459383753505, 795: 0.6830760281385282, 796: 1.5427124961808738, 797: 0.3951865070047742, 798: 3.1284374225526643, 799: 2.5120885572139304, 800: 4.0556610441767065, 801: 2.166151008151008, 802: 6.786690860215054, 803: 1.2598048902195609, 804: 1.6932588866532527, 805: 3.0271570743405274, 806: 5.500324618736383, 807: 2.3672283169245194, 808: 0.8226291951775823, 809: 4.271825719120136, 810: 2.2961791723510685, 811: 1.6898587684069613, 812: 4.6366372819100095, 813: 3.5359229691876752, 814: 2.001307173999207, 815: 2.4463653100775193, 816: 4.50026559714795, 817: 0.8596012938372489, 818: 1.9570922480620154, 819: 0.9445001870557426, 820: 3.0657547055251975, 821: 4.176425144747725, 822: 4.964894788593903, 823: 6.054314148681055, 824: 4.228892797319933, 825: 3.79932129420617, 826: 3.1284374225526643, 827: 3.313187664041995, 828: 4.360360967184802, 829: 2.942481351981352, 830: 6.523640826873385, 831: 1.809784229390681, 832: 4.50026559714795, 833: 1.5469662990196078, 834: 0.8986114967075992, 835: 3.3797175368139225, 836: 3.3594797072521625, 837: 5.823873125720876, 838: 4.8504303554274735, 839: 1.037669132757912, 840: 5.1787671794871795, 841: 3.8603195718654435, 842: 4.808855238095238, 843: 2.299316029143898, 844: 3.765322893363162, 845: 2.7682554824561403, 846: 3.807917043740573, 847: 2.464274280136652, 848: 0.9601251188438866, 849: 2.3151297569922056, 850: 2.11710607966457, 851: 1.6075447309773958, 852: 0.9360952910641454, 853: 6.732397333333333, 854: 0.4928548560273304, 855: 3.3001947712418302, 856: 3.6118011444921314, 857: 0.5077222724987431, 858: 1.0306793223106756, 859: 2.7367468834688347, 860: 6.523640826873385, 861: 2.9895192421551213, 862: 4.464454465075154, 863: 4.29362074829932, 864: 6.705575033200531, 865: 2.561795027904617, 866: 3.0713491484184914, 867: 0.5289438508275718, 868: 6.549024643320363, 869: 2.3605881252921925, 870: 2.9579953134153487, 871: 4.29362074829932, 872: 2.809848636616583, 873: 1.5081535244922342, 874: 2.12781205225453, 875: 1.3305133069828723, 876: 1.1094919797846627, 877: 2.557901722391084, 878: 1.9502889146388567, 879: 1.9685372319688108, 880: 4.662325023084025, 881: 3.756918154761905, 882: 0.9509035781544256, 883: 1.0281608633679495, 884: 2.3474188749418876, 885: 1.2403090149840335, 886: 2.5008905398712233, 887: 1.8932500937382828, 888: 1.1811223391812866, 889: 2.5854060419866873, 890: 2.414776661884266, 891: 1.382990413585319, 892: 2.3343957466481737, 893: 2.534788152610442, 894: 4.512330652368186, 895: 3.988387045813586, 896: 6.652566534914361, 897: 4.512330652368186, 898: 2.8820194063926943, 899: 0.9825448530842577, 900: 0.594944974667138, 901: 1.2126075888568684, 902: 2.62165005192108, 903: 2.2441324444444444, 904: 2.075338265515824, 905: 3.0217223219628964, 906: 5.783846506300114, 907: 4.326733504712939, 908: 5.227016563146998, 909: 2.7456759108210984, 910: 3.2873033854166667, 911: 6.473458974358975, 912: 0.9546791453961051, 913: 0.3213861625612628, 914: 2.2471286159323545, 915: 2.947634559252773, 916: 1.085170427681066, 917: 6.759435073627845, 918: 1.2693056812468577, 919: 2.741204125950054, 920: 4.586101725703905, 921: 1.4084513249651325, 922: 2.0986275976724853, 923: 3.280895386614685, 924: 0.4359231632564966, 925: 1.849559706959707, 926: 3.6910073099415204, 927: 2.0626217320261437, 928: 2.075338265515824, 929: 6.678965608465608, 930: 6.897948087431694, 931: 2.232227232537577, 932: 5.705421468926554, 933: 5.573176600441501, 934: 4.360360967184802, 935: 4.3378848797250855, 936: 6.187865196078431, 937: 2.050060089321965, 938: 2.4113170964660937, 939: 6.983814661134163, 940: 4.935775171065494, 941: 3.8960632716049384, 942: 0.4906995140913508, 943: 2.557901722391084, 944: 2.1012476071577195, 945: 5.131400406504065, 946: 2.515843547583458, 947: 2.8287383753501403, 948: 5.194751028806585, 949: 3.3328699669966997, 950: 3.420933604336043, 951: 1.9061147602869006, 952: 0.7045204409097251, 953: 5.6861463963963965, 954: 3.3461219350563285, 955: 1.4751089687408705, 956: 1.3432556530992286, 957: 6.4240432569974555, 958: 1.8354409305707016, 959: 1.648481227554685, 960: 3.7319275683665927, 961: 2.6298427083333333, 962: 2.573546381243629, 963: 2.050060089321965, 964: 1.525928679359323, 965: 6.280221393034826, 966: 6.759435073627845, 967: 3.1696785938480856, 968: 2.3056155251141552, 969: 3.765322893363162, 970: 2.1830082144401213, 971: 1.7924380546680867, 972: 0.834870701058201, 973: 2.211694261936049, 974: 5.054352352352352, 975: 4.781532196969697, 976: 4.360360967184802, 977: 2.573546381243629, 978: 5.591692137320044, 979: 2.7234617044228693, 980: 5.309461619348054, 981: 5.905611695906432, 982: 3.8870654349499616, 983: 3.2745123216601817, 984: 7.131776836158192, 985: 3.2745123216601817, 986: 3.3328699669966997, 987: 4.383071180555556, 988: 3.393345430107527, 989: 6.549024643320363, 990: 4.649445672191528, 991: 3.1756591194968555, 992: 2.968429159318048, 993: 4.994360039564787, 994: 3.420933604336043, 995: 2.741204125950054, 996: 3.3001947712418302, 997: 3.0380854392298438, 998: 2.421725659472422, 999: 3.960233725490196, 1000: 2.4322244701348747, 1001: 3.9509374021909234, 1002: 5.9684373522458625, 1003: 6.4240432569974555, 1004: 4.781532196969697, 1005: 3.434896598639456, 1006: 1.5627663262147942, 1007: 2.223380889476002, 1008: 6.786690860215054, 1009: 5.326263713080169, 1010: 2.194392872664059, 1011: 1.2598048902195609, 1012: 1.8577255334805003, 1013: 3.242965960179833, 1014: 6.303742821473159, 1015: 3.8603195718654435, 1016: 4.135379197379198, 1017: 1.827469417300036, 1018: 5.724827664399093, 1019: 5.24330010384216, 1020: 2.0934071310116087, 1021: 4.906995140913509, 1022: 3.7319275683665927, 1023: 2.1305054852320677, 1024: 1.9301597859327217, 1025: 1.4014149320011102, 1026: 5.573176600441501, 1027: 5.131400406504065, 1028: 4.892730620155039, 1029: 4.524460573476703, 1030: 1.1065741836511067, 1031: 1.6797398536260812, 1032: 1.2375730392156863, 1033: 3.682930707512764, 1034: 5.162881390593047, 1035: 7.012913888888889, 1036: 6.280221393034826, 1037: 0.497516799684698, 1038: 3.293736464448793, 1039: 3.6273692528735633, 1040: 1.8455036549707602, 1041: 1.7716835087719298, 1042: 1.3057403672097232, 1043: 1.4699557496360989, 1044: 7.101684950773558, 1045: 0.9293756672188478, 1046: 4.573639492753623, 1047: 5.115803444782168, 1048: 3.807917043740573, 1049: 6.897948087431694, 1050: 3.558349541930937, 1051: 4.754517890772128, 1052: 1.9824491558696506, 1053: 2.2381640070921986, 1054: 4.50026559714795, 1055: 5.194751028806585, 1056: 0.995916765285996, 1057: 1.5953548183254345, 1058: 7.0718459383753505, 1059: 2.486114229443624, 1060: 1.0598862300587741, 1061: 2.896900745840505, 1062: 4.065457326892109, 1063: 3.054626739261948, 1064: 3.8870654349499616, 1065: 2.8624138321995467, 1066: 6.523640826873385, 1067: 1.8536336270190896, 1068: 3.463167352537723, 1069: 6.841867208672086, 1070: 6.786690860215054, 1071: 4.950292156862745, 1072: 2.414776661884266, 1073: 5.518358469945356, 1074: 5.227016563146998, 1075: 3.0882556574923545, 1076: 5.429352688172043, 1077: 3.0380854392298438, 1078: 3.1284374225526643, 1079: 2.6175728356661483, 1080: 2.4287147667147666, 1081: 0.49459281026545204, 1082: 3.049092995169082, 1083: 3.5359229691876752, 1084: 5.429352688172043, 1085: 4.598632058287796, 1086: 0.8407089577089577, 1087: 3.0825995115995117, 1088: 5.411894962486603, 1089: 6.054314148681055, 1090: 3.060180606060606, 1091: 3.0825995115995117, 1092: 5.6861463963963965, 1093: 7.012913888888889, 1094: 4.649445672191528, 1095: 2.527176176176176, 1096: 5.667001122334455, 1097: 6.759435073627845, 1098: 6.054314148681055, 1099: 5.411894962486603, 1100: 7.012913888888889, 1101: 2.9169832466782206, 1102: 4.906995140913509, 1103: 3.825225757575758, 1104: 5.6861463963963965, 1105: 1.3149213541666667, 1106: 3.0769640463132237, 1107: 6.4240432569974555, 1108: 1.6309102067183463, 1109: 5.309461619348054, 1110: 5.803790804597702, 1111: 4.7013947858473, 1112: 1.7192025876744979, 1113: 4.1252434640522875, 1114: 4.2610109704641355, 1115: 3.8870654349499616, 1116: 2.253145024542615, 1117: 4.754517890772128, 1118: 4.429208771929825, 1119: 3.4070836707152496, 1120: 6.032614097968937, 1121: 1.5656737984496123, 1122: 2.0626217320261437, 1123: 5.500324618736383, 1124: 6.303742821473159, 1125: 3.434896598639456, 1126: 3.9051028615622583, 1127: 4.4526437389770726, 1128: 1.7679614845938376, 1129: 6.6003895424836605, 1130: 4.429208771929825, 1131: 3.869193869731801, 1132: 4.688298978644383, 1133: 2.7103048845947395, 1134: 6.983814661134163, 1135: 5.326263713080169, 1136: 2.777391639163916, 1137: 5.6861463963963965, 1138: 4.135379197379198, 1139: 6.869793197278912, 1140: 3.997860649247823, 1141: 5.0392195608782435, 1142: 1.8195668468468469, 1143: 4.105120325203252, 1144: 4.29362074829932, 1145: 5.394549145299146, 1146: 1.2126075888568684, 1147: 5.9684373522458625, 1148: 2.625739989599584, 1149: 4.512330652368186, 1150: 5.009224206349207, 1151: 5.536510964912281, 1152: 3.682930707512764, 1153: 4.406019197207679, 1154: 5.610331111111111, 1155: 3.997860649247823, 1156: 4.145564860426929, 1157: 7.192732193732193, 1158: 4.488264888888889, 1159: 2.9220474537037036, 1160: 2.937346131471786, 1161: 1.5848392969240428, 1162: 5.009224206349207, 1163: 2.891923253150057, 1164: 4.808855238095238, 1165: 5.37731416400426, 1166: 2.5120885572139304, 1167: 6.549024643320363, 1168: 1.2249631246967492, 1169: 2.253145024542615, 1170: 2.763709906951286, 1171: 2.800498058790904, 1172: 7.0718459383753505, 1173: 5.884962703962704, 1174: 7.012913888888889, 1175: 4.0951321978913215, 1176: 3.1342631905648664, 1177: 4.8504303554274735, 1178: 7.162124822695035, 1179: 5.926406103286385, 1180: 2.0626217320261437, 1181: 4.598632058287796, 1182: 2.8239921700223714, 1183: 1.7262557264957266, 1184: 2.891923253150057, 1185: 1.1802940626460963, 1186: 2.896900745840505, 1187: 3.7402207407407406, 1188: 6.399617237008872, 1189: 6.120361212121212, 1190: 1.122814765399155, 1191: 4.406019197207679, 1192: 3.3197225509533204, 1193: 5.360188959660297, 1194: 4.406019197207679, 1195: 4.754517890772128, 1196: 4.878548792270531, 1197: 1.6214829800899164, 1198: 4.561244805781391, 1199: 1.874275426874536, 1200: 5.227016563146998, 1201: 4.282695504664971, 1202: 4.836492337164751, 1203: 3.6910073099415204, 1204: 6.786690860215054, 1205: 2.2837168701944823, 1206: 1.7624076788830716, 1207: 2.8575540464063383, 1208: 5.647984340044743, 1209: 6.187865196078431, 1210: 6.732397333333333, 1211: 4.207748333333333, 1212: 2.66735235076598, 1213: 4.573639492753623, 1214: 2.0302766385203057, 1215: 3.6273692528735633, 1216: 5.803790804597702, 1217: 4.512330652368186, 1218: 1.6864722778891115, 1219: 3.1577848655409633, 1220: 3.3197225509533204, 1221: 5.054352352352352, 1222: 3.1696785938480856, 1223: 1.8059005722460657, 1224: 6.032614097968937, 1225: 2.7682554824561403, 1226: 5.610331111111111, 1227: 4.105120325203252, 1228: 3.3197225509533204, 1229: 6.1651990231990235, 1230: 5.783846506300114, 1231: 6.926334705075446, 1232: 3.3865177733065055, 1233: 3.773765321375187, 1234: 1.69496408190668, 1235: 0.8747917532917533, 1236: 4.8504303554274735, 1237: 2.5696173027989824, 1238: 5.115803444782168, 1239: 6.926334705075446, 1240: 2.8287383753501403, 1241: 4.271825719120136, 1242: 4.417583552055993, 1243: 2.8869628359062323, 1244: 7.192732193732193, 1245: 2.8145473801560756, 1246: 4.3378848797250855, 1247: 6.256874845105329, 1248: 3.93247507788162, 1249: 2.777391639163916, 1250: 3.7402207407407406, 1251: 5.482408251900108, 1252: 3.463167352537723, 1253: 3.105349323493235, 1254: 5.276173458725183, 1255: 5.429352688172043, 1256: 4.727807116104869, 1257: 2.6054169246646026, 1258: 5.210833849329205, 1259: 1.4509477011494254, 1260: 5.705421468926554, 1261: 2.4463653100775193, 1262: 1.9213462709284628, 1263: 4.50026559714795, 1264: 3.484677708764665, 1265: 6.375376262626262, 1266: 3.1342631905648664, 1267: 4.016943516308672, 1268: 3.5064569444444444, 1269: 2.3343957466481737, 1270: 5.292765199161425, 1271: 4.767986779981114, 1272: 6.759435073627845, 1273: 5.947347467608951, 1274: 2.8430731981981983, 1275: 2.324722836095764, 1276: 4.115157294213529, 1277: 4.836492337164751, 1278: 4.935775171065494, 1279: 4.065457326892109, 1280: 3.604067094932191, 1281: 3.242965960179833, 1282: 6.21069864698647, 1283: 5.394549145299146, 1284: 4.781532196969697, 1285: 3.4703079037800686, 1286: 2.62165005192108, 1287: 2.5196097804391218, 1288: 5.905611695906432, 1289: 3.4419209270620312, 1290: 3.3797175368139225, 1291: 3.558349541930937, 1292: 3.960233725490196, 1293: 3.997860649247823, 1294: 4.176425144747725, 1295: 3.85148588863463, 1296: 4.964894788593903, 1297: 6.1651990231990235, 1298: 3.79932129420617, 1299: 6.142698296836983, 1300: 2.0626217320261437, 1301: 2.34088919796013, 1302: 6.399617237008872, 1303: 6.983814661134163, 1304: 1.6647866798549291, 1305: 1.0325762781186094, 1306: 5.131400406504065, 1307: 2.5386113624937154, 1308: 4.7013947858473, 1309: 4.326733504712939, 1310: 6.574606770833333, 1311: 2.265275011215792, 1312: 3.960233725490196, 1313: 6.187865196078431, 1314: 5.884962703962704, 1315: 5.37731416400426, 1316: 3.5963660968660967, 1317: 2.414776661884266, 1318: 5.343172486772486, 1319: 2.2806224028906956, 1320: 5.194751028806585, 1321: 5.08489224572004, 1322: 4.964894788593903, 1323: 6.62637532808399, 1324: 2.800498058790904, 1325: 5.9684373522458625, 1326: 2.7103048845947395, 1327: 4.598632058287796, 1328: 2.763709906951286, 1329: 5.667001122334455, 1330: 5.518358469945356, 1331: 5.783846506300114, 1332: 5.629094760312151, 1333: 4.440895338610378, 1334: 3.7402207407407406, 1335: 1.7156975874957527, 1336: 5.194751028806585, 1337: 4.6366372819100095, 1338: 5.629094760312151, 1339: 6.256874845105329, 1340: 5.884962703962704, 1341: 6.574606770833333, 1342: 5.724827664399093, 1343: 5.326263713080169, 1344: 3.988387045813586, 1345: 2.464274280136652, 1346: 2.070232882328823, 1347: 6.303742821473159, 1348: 6.120361212121212, 1349: 4.808855238095238, 1350: 3.393345430107527, 1351: 4.598632058287796, 1352: 5.131400406504065, 1353: 6.954955922865014, 1354: 4.176425144747725, 1355: 3.914184496124031, 1356: 2.4463653100775193, 1357: 5.926406103286385, 1358: 6.1651990231990235, 1359: 4.1252434640522875, 1360: 7.101684950773558, 1361: 2.5196097804391218, 1362: 4.795154795821462, 1363: 3.2618204134366926, 1364: 1.4251476150155236, 1365: 4.623899267399268, 1366: 2.557901722391084, 1367: 2.891923253150057, 1368: 4.045911858974359, 1369: 3.4919073305670816, 1370: 5.394549145299146, 1371: 4.906995140913509, 1372: 3.914184496124031, 1373: 6.187865196078431, 1374: 5.069576305220884, 1375: 4.878548792270531, 1376: 4.045911858974359, 1377: 4.6366372819100095, 1378: 6.652566534914361, 1379: 5.115803444782168, 1380: 3.1756591194968555, 1381: 2.8575540464063383, 1382: 2.7323041125541128, 1383: 5.536510964912281, 1384: 3.463167352537723, 1385: 5.446923408845739, 1386: 7.042256624825662, 1387: 4.573639492753623, 1388: 4.892730620155039, 1389: 6.678965608465608, 1390: 6.926334705075446, 1391: 3.255511283043198, 1392: 6.869793197278912, 1393: 4.6366372819100095, 1394: 6.011069047619047, 1395: 4.045911858974359, 1396: 5.629094760312151, 1397: 4.250250841750842, 1398: 2.006077870480731, 1399: 5.864457607433217, 1400: 6.098185990338164, 1401: 6.897948087431694, 1402: 5.259685416666667, 1403: 4.4526437389770726, 1404: 5.309461619348054, 1405: 4.488264888888889, 1406: 6.6003895424836605, 1407: 6.869793197278912, 1408: 5.4646082251082255, 1409: 3.550842475386779, 1410: 7.162124822695035, 1411: 3.682930707512764, 1412: 2.7016040663456393, 1413: 4.754517890772128, 1414: 4.906995140913509, 1415: 4.950292156862745, 1416: 6.351318238993711, 1417: 5.343172486772486, 1418: 6.303742821473159, 1419: 6.62637532808399, 1420: 3.293736464448793, 1421: 5.326263713080169, 1422: 2.268327942497754, 1423: 5.115803444782168, 1424: 7.012913888888889, 1425: 3.3594797072521625, 1426: 4.878548792270531, 1427: 3.619568458781362, 1428: 2.486114229443624, 1429: 3.7154510669610006, 1430: 4.892730620155039, 1431: 6.256874845105329, 1432: 6.327441102756892, 1433: 6.0761708784596875, 1434: 6.120361212121212, 1435: 6.0761708784596875, 1436: 3.7154510669610006, 1437: 6.786690860215054, 1438: 6.1651990231990235, 1439: 4.6366372819100095, 1440: 5.24330010384216, 1441: 4.8504303554274735, 1442: 3.313187664041995, 1443: 6.814167341430499, 1444: 3.4070836707152496, 1445: 4.586101725703905, 1446: 5.536510964912281, 1447: 6.897948087431694, 1448: 4.383071180555556, 1449: 5.823873125720876, 1450: 4.649445672191528, 1451: 5.573176600441501, 1452: 3.9051028615622583, 1453: 7.0718459383753505, 1454: 4.9213430799220275, 1455: 5.147092762487258, 1456: 5.9684373522458625, 1457: 4.045911858974359, 1458: 5.744366325369739, 1459: 6.011069047619047, 1460: 6.054314148681055, 1461: 5.131400406504065, 1462: 5.9684373522458625, 1463: 3.6910073099415204, 1464: 5.647984340044743, 1465: 5.500324618736383, 1466: 5.1787671794871795, 1467: 6.574606770833333, 1468: 2.6298427083333333, 1469: 6.303742821473159, 1470: 6.869793197278912, 1471: 3.393345430107527, 1472: 6.652566534914361, 1473: 6.399617237008872, 1474: 6.399617237008872, 1475: 4.326733504712939, 1476: 5.024177114427861, 1477: 5.844094907407407, 1478: 4.994360039564787, 1479: 6.705575033200531, 1480: 5.864457607433217, 1481: 5.24330010384216, 1482: 5.629094760312151, 1483: 7.192732193732193, 1484: 6.705575033200531, 1485: 6.814167341430499, 1486: 6.62637532808399, 1487: 7.0718459383753505, 1488: 5.705421468926554, 1489: 6.498453024453024, 1490: 6.098185990338164, 1491: 5.744366325369739, 1492: 5.9684373522458625, 1493: 6.1651990231990235, 1494: 5.744366325369739, 1495: 6.21069864698647, 1496: 6.187865196078431, 1497: 6.4240432569974555, 1498: 6.574606770833333, 1499: 4.675275925925926}\n"
          ],
          "name": "stdout"
        }
      ]
    },
    {
      "cell_type": "code",
      "metadata": {
        "id": "nwwep2VfnEJZ"
      },
      "source": [
        "train_gen = DataGeneratorWord(train, True, le, shuffle=False)\n",
        "val_gen = DataGeneratorWord(test, False, le, shuffle=False)"
      ],
      "execution_count": null,
      "outputs": []
    },
    {
      "cell_type": "code",
      "metadata": {
        "colab": {
          "base_uri": "https://localhost:8080/"
        },
        "id": "btmCGhnEnQrO",
        "outputId": "569a4e6c-fadb-4850-8f13-2e6f8c93d811"
      },
      "source": [
        "# Test data generators\n",
        "\n",
        "X, y = train_gen.__getitem__(0)\n",
        "val_gen.__getitem__(0)"
      ],
      "execution_count": null,
      "outputs": [
        {
          "output_type": "execute_result",
          "data": {
            "text/plain": [
              "[<tf.Tensor: shape=(64, 4096), dtype=int64, numpy=\n",
              " array([[ 7, 14, 19, ...,  0,  0,  0],\n",
              "        [ 0,  0,  0, ...,  0,  0,  0],\n",
              "        [27, 27,  9, ...,  0,  0,  0],\n",
              "        ...,\n",
              "        [ 0,  0,  0, ...,  0,  0,  0],\n",
              "        [25, 23, 10, ...,  0,  0,  0],\n",
              "        [ 8, 20, 26, ...,  0,  0,  0]])>,\n",
              " <tf.Tensor: shape=(64, 4096), dtype=int64, numpy=\n",
              " array([[ 0,  0,  0, ...,  0,  0,  0],\n",
              "        [ 9, 20, 16, ...,  0,  0,  0],\n",
              "        [25, 27, 10, ...,  0,  0,  0],\n",
              "        ...,\n",
              "        [16, 27, 15, ...,  0,  0,  0],\n",
              "        [12, 26, 10, ...,  0,  0,  0],\n",
              "        [ 0,  0,  0, ...,  0,  0,  0]])>,\n",
              " <tf.Tensor: shape=(64, 4096), dtype=int64, numpy=\n",
              " array([[ 0,  0,  0, ...,  0,  0,  0],\n",
              "        [17,  7, 10, ...,  0,  0,  0],\n",
              "        [20, 27,  8, ...,  0,  0,  0],\n",
              "        ...,\n",
              "        [22, 13,  7, ...,  0,  0,  0],\n",
              "        [14, 13,  8, ...,  0,  0,  0],\n",
              "        [23,  4,  8, ...,  0,  0,  0]])>,\n",
              " <tf.Tensor: shape=(64, 128), dtype=int64, numpy=\n",
              " array([[ 7, 14, 19, ...,  0,  0,  0],\n",
              "        [ 9, 20, 16, ...,  0,  0,  0],\n",
              "        [27, 27,  9, ...,  0,  0,  0],\n",
              "        ...,\n",
              "        [16, 27, 15, ...,  0,  0,  0],\n",
              "        [25, 23, 10, ...,  0,  0,  0],\n",
              "        [ 8, 20, 26, ...,  0,  0,  0]])>]"
            ]
          },
          "metadata": {
            "tags": []
          },
          "execution_count": 20
        }
      ]
    },
    {
      "cell_type": "markdown",
      "metadata": {
        "id": "FDe6Vc3b9Qib"
      },
      "source": [
        "## Model training"
      ]
    },
    {
      "cell_type": "code",
      "metadata": {
        "id": "2btztv-g9TY_"
      },
      "source": [
        "#optimizer = Nadam(lr=1e-6, beta_1=0.9, beta_2=0.999, epsilon=1e-08, schedule_decay=0.004)\n",
        "tensorboard = TensorBoard(log_dir=\"./drive/My Drive/HackerEarth/Models/logs\".format(time()), histogram_freq=1, write_graph=True)\n",
        "early_stopping = EarlyStopping(monitor='val_loss', patience=10)\n",
        "\n",
        "filepath = \"./drive/My Drive/HackerEarth/Models/\" + \"model-{epoch:03d}-{val_loss:.5f}.hdf5\"\n",
        "checkpoint = ModelCheckpoint(filepath, monitor='val_loss', verbose=1, save_best_only=False)\n",
        "callbacks_list = [checkpoint, tensorboard]"
      ],
      "execution_count": null,
      "outputs": []
    },
    {
      "cell_type": "code",
      "metadata": {
        "id": "K2iu1W_u-YMe"
      },
      "source": [
        "NUM_EPOCHS = 50\n",
        "\n",
        "history = model.fit_generator(train_gen, epochs=NUM_EPOCHS, \n",
        "                              shuffle=True, callbacks=callbacks_list,\n",
        "                              validation_data= val_gen)"
      ],
      "execution_count": null,
      "outputs": []
    },
    {
      "cell_type": "markdown",
      "metadata": {
        "id": "Nbqu9k9Y0Oo9"
      },
      "source": [
        "## Reload Training"
      ]
    },
    {
      "cell_type": "code",
      "metadata": {
        "id": "1wOdnVKF0OMM"
      },
      "source": [
        "from tensorflow.keras.models import load_model\n",
        "\n",
        "model = load_model('/content/drive/MyDrive/HackerEarth/Models/model-001-0.43.hdf5')\n",
        "model.compile(loss=\"categorical_crossentropy\", optimizer=\"adam\", metrics=[\"accuracy\"])"
      ],
      "execution_count": null,
      "outputs": []
    },
    {
      "cell_type": "code",
      "metadata": {
        "id": "_G5dcrbc0OOg",
        "colab": {
          "base_uri": "https://localhost:8080/"
        },
        "outputId": "2245ad95-e07f-4b9f-fba8-80a2a584fa88"
      },
      "source": [
        "NUM_EPOCHS = 2\n",
        "\n",
        "history = model.fit_generator(train_gen, epochs=NUM_EPOCHS, \n",
        "                              shuffle=True, callbacks=callbacks_list,\n",
        "                              validation_data= val_gen)"
      ],
      "execution_count": null,
      "outputs": [
        {
          "output_type": "stream",
          "text": [
            "/usr/local/lib/python3.7/dist-packages/tensorflow/python/keras/engine/training.py:1940: UserWarning: `Model.fit_generator` is deprecated and will be removed in a future version. Please use `Model.fit`, which supports generators.\n",
            "  warnings.warn('`Model.fit_generator` is deprecated and '\n"
          ],
          "name": "stderr"
        },
        {
          "output_type": "stream",
          "text": [
            "Epoch 1/2\n",
            "37216/39447 [===========================>..] - ETA: 13:21 - loss: 2.3236 - accuracy: 0.5479"
          ],
          "name": "stdout"
        }
      ]
    },
    {
      "cell_type": "markdown",
      "metadata": {
        "id": "GHxcqepwuofH"
      },
      "source": [
        "## Testing"
      ]
    },
    {
      "cell_type": "code",
      "metadata": {
        "id": "KQp6lHJoui7J"
      },
      "source": [
        "!cp \"/content/drive/MyDrive/HackerEarth/test_clean.csv\" \"test_clean.csv\""
      ],
      "execution_count": null,
      "outputs": []
    },
    {
      "cell_type": "code",
      "metadata": {
        "id": "jcxK_-G_ui9f"
      },
      "source": [
        "test_set = pd.read_csv(\"test_clean.csv\")\n",
        "del test_set[\"Unnamed: 0\"]\n",
        "test_set = test_set.fillna(\"\")"
      ],
      "execution_count": null,
      "outputs": []
    },
    {
      "cell_type": "code",
      "metadata": {
        "colab": {
          "base_uri": "https://localhost:8080/",
          "height": 581
        },
        "id": "ST4_921jBI_r",
        "outputId": "c66af4fb-b211-490a-b4d5-e891cd6f0cf3"
      },
      "source": [
        "test_set"
      ],
      "execution_count": null,
      "outputs": [
        {
          "output_type": "execute_result",
          "data": {
            "text/html": [
              "<div>\n",
              "<style scoped>\n",
              "    .dataframe tbody tr th:only-of-type {\n",
              "        vertical-align: middle;\n",
              "    }\n",
              "\n",
              "    .dataframe tbody tr th {\n",
              "        vertical-align: top;\n",
              "    }\n",
              "\n",
              "    .dataframe thead th {\n",
              "        text-align: right;\n",
              "    }\n",
              "</style>\n",
              "<table border=\"1\" class=\"dataframe\">\n",
              "  <thead>\n",
              "    <tr style=\"text-align: right;\">\n",
              "      <th></th>\n",
              "      <th>PRODUCT_ID</th>\n",
              "      <th>TITLE</th>\n",
              "      <th>DESCRIPTION</th>\n",
              "      <th>BULLET_POINTS</th>\n",
              "      <th>BRAND</th>\n",
              "    </tr>\n",
              "  </thead>\n",
              "  <tbody>\n",
              "    <tr>\n",
              "      <th>0</th>\n",
              "      <td>1</td>\n",
              "      <td>command small kitchen hooks white decorate dam...</td>\n",
              "      <td>sale unit pack</td>\n",
              "      <td>includes hooks small indoor strips hook holds ...</td>\n",
              "      <td>command</td>\n",
              "    </tr>\n",
              "    <tr>\n",
              "      <th>1</th>\n",
              "      <td>2</td>\n",
              "      <td>oneal jump hardware jag unisexadult glove blac...</td>\n",
              "      <td>synthetic leather palm doublelayer thumb reinf...</td>\n",
              "      <td>silicone printing better grip long lasting fle...</td>\n",
              "      <td>oneal</td>\n",
              "    </tr>\n",
              "    <tr>\n",
              "      <th>2</th>\n",
              "      <td>3</td>\n",
              "      <td>nfl detroit lions portable party fridge quart</td>\n",
              "      <td>boelter brands lets celebrate favorite popcult...</td>\n",
              "      <td>runs volt dc power volt ac power plugs home ou...</td>\n",
              "      <td>boelter brands</td>\n",
              "    </tr>\n",
              "    <tr>\n",
              "      <th>3</th>\n",
              "      <td>4</td>\n",
              "      <td>panasonic single line kxtsmx corded phone white</td>\n",
              "      <td>features station phonebook corded phone alphan...</td>\n",
              "      <td>panasonic landline phones doesnt come manufact...</td>\n",
              "      <td>panasonic</td>\n",
              "    </tr>\n",
              "    <tr>\n",
              "      <th>4</th>\n",
              "      <td>5</td>\n",
              "      <td>zero baby girls cotton innerwear bloomer drawe...</td>\n",
              "      <td>zero baby girl panties set cotton breathable s...</td>\n",
              "      <td>zero baby girl panties pack cotton baby girlss...</td>\n",
              "      <td>zero</td>\n",
              "    </tr>\n",
              "    <tr>\n",
              "      <th>...</th>\n",
              "      <td>...</td>\n",
              "      <td>...</td>\n",
              "      <td>...</td>\n",
              "      <td>...</td>\n",
              "      <td>...</td>\n",
              "    </tr>\n",
              "    <tr>\n",
              "      <th>110770</th>\n",
              "      <td>110771</td>\n",
              "      <td>aahna e mall oneblade hybrid trimmer shaver ed...</td>\n",
              "      <td>one hyper advanced smart rechargeable razor pr...</td>\n",
              "      <td>unique one blade style trim shave keeping skin...</td>\n",
              "      <td>generic</td>\n",
              "    </tr>\n",
              "    <tr>\n",
              "      <th>110771</th>\n",
              "      <td>110772</td>\n",
              "      <td>grin health n anti pollution reusable washable...</td>\n",
              "      <td>size guide kg l kg xl kg new n anti pollution ...</td>\n",
              "      <td>protection filtration rate percent small pm us...</td>\n",
              "      <td>grin health</td>\n",
              "    </tr>\n",
              "    <tr>\n",
              "      <th>110772</th>\n",
              "      <td>110773</td>\n",
              "      <td>asian army pink ultra reusable respirator clot...</td>\n",
              "      <td>asian hyperprotect masks engineered layer trip...</td>\n",
              "      <td>reusable environment friendly masks washable r...</td>\n",
              "      <td>asian</td>\n",
              "    </tr>\n",
              "    <tr>\n",
              "      <th>110773</th>\n",
              "      <td>110774</td>\n",
              "      <td>im safe ply nonwoven disposable surgical face ...</td>\n",
              "      <td>ply disposable face mask manufactured using si...</td>\n",
              "      <td>ply mask genuine ply mask gsm spun bonded nonw...</td>\n",
              "      <td>intermarket</td>\n",
              "    </tr>\n",
              "    <tr>\n",
              "      <th>110774</th>\n",
              "      <td>110775</td>\n",
              "      <td>artifie cotton unisex reusable breathable wash...</td>\n",
              "      <td>material cotton printed cotton thread soft str...</td>\n",
              "      <td>eco friendly reusable cotton masks face ajrak ...</td>\n",
              "      <td>artifie</td>\n",
              "    </tr>\n",
              "  </tbody>\n",
              "</table>\n",
              "<p>110775 rows × 5 columns</p>\n",
              "</div>"
            ],
            "text/plain": [
              "        PRODUCT_ID  ...           BRAND\n",
              "0                1  ...         command\n",
              "1                2  ...           oneal\n",
              "2                3  ...  boelter brands\n",
              "3                4  ...       panasonic\n",
              "4                5  ...            zero\n",
              "...            ...  ...             ...\n",
              "110770      110771  ...         generic\n",
              "110771      110772  ...     grin health\n",
              "110772      110773  ...           asian\n",
              "110773      110774  ...     intermarket\n",
              "110774      110775  ...         artifie\n",
              "\n",
              "[110775 rows x 5 columns]"
            ]
          },
          "metadata": {
            "tags": []
          },
          "execution_count": 7
        }
      ]
    },
    {
      "cell_type": "code",
      "metadata": {
        "id": "21ivwLfuu-78"
      },
      "source": [
        "class TestDataGeneratorWord(Sequence):\n",
        "    def __init__(self, df, batch_size=75, n=1500):\n",
        "      \n",
        "        self.df = df\n",
        "        self.n = n\n",
        "        self.batch_size = batch_size\n",
        "        self.epoch = 0\n",
        "        self.on_epoch_end()\n",
        "        self.vectorizer = get_char_vectorizer()\n",
        "    \n",
        "    def __len__(self):\n",
        "        return int(len(self.df) // self.batch_size)\n",
        "\n",
        "    def add_spaces(self, sentence):\n",
        "      mod = \"\"\n",
        "      for char in sentence:\n",
        "        mod += char + \" \"\n",
        "      return mod[:-1]\n",
        "\n",
        "    def __getitem__(self, index):\n",
        "        # Generate indexes of the batch\n",
        "        current_indexes = list(range(index * self.batch_size, (index + 1) * self.batch_size))\n",
        "        data_points = self.df.loc[current_indexes].values\n",
        "\n",
        "        # Generate data\n",
        "        X = []\n",
        "\n",
        "        titles = []\n",
        "        descs = []\n",
        "        bullets = []\n",
        "        brands = []\n",
        "        ids = []\n",
        "\n",
        "        idx = 0\n",
        "        for _, title, desc, bullet, brand in data_points:\n",
        "          titles.append(self.add_spaces(title))\n",
        "          descs.append(self.add_spaces(desc))\n",
        "          bullets.append(self.add_spaces(bullet))\n",
        "          brands.append(self.add_spaces(brand))\n",
        "          ids.append(_)\n",
        "\n",
        "        return ids, [self.vectorizer(titles), self.vectorizer(descs),\n",
        "                self.vectorizer(bullets), self.vectorizer(brands)[:, :128]]\n",
        "\n",
        "    def on_epoch_end(self):\n",
        "        self.epoch += 1"
      ],
      "execution_count": null,
      "outputs": []
    },
    {
      "cell_type": "code",
      "metadata": {
        "id": "zNgMwRBb6b7W"
      },
      "source": [
        "test_gen = TestDataGeneratorWord(test_set)"
      ],
      "execution_count": null,
      "outputs": []
    },
    {
      "cell_type": "code",
      "metadata": {
        "id": "lVcERZA_tAv8"
      },
      "source": [
        "submission = {\"PRODUCT_ID\":[],\n",
        "              \"BROWSE_NODE_ID\":[]}\n",
        "\n",
        "for idx in range(test_gen.__len__()):\n",
        "  if idx % 500 == 0:\n",
        "    print(idx / test_gen.__len__() * 100, \"Done\")\n",
        "  ids, input = test_gen.__getitem__(idx)\n",
        "  res = model.predict(input)\n",
        "  decoded = le.inverse_transform(res.argmax(axis=1))\n",
        "  submission[\"PRODUCT_ID\"] += ids\n",
        "  submission[\"BROWSE_NODE_ID\"] += decoded.tolist()"
      ],
      "execution_count": null,
      "outputs": []
    },
    {
      "cell_type": "code",
      "metadata": {
        "colab": {
          "base_uri": "https://localhost:8080/",
          "height": 747
        },
        "id": "ov4376Wjxt5A",
        "outputId": "645c047d-c8fc-44f8-9207-240ef7fab249"
      },
      "source": [
        "submission_df = pd.DataFrame(submission)\n",
        "submission_df"
      ],
      "execution_count": null,
      "outputs": [
        {
          "output_type": "execute_result",
          "data": {
            "text/html": [
              "<div>\n",
              "<style scoped>\n",
              "    .dataframe tbody tr th:only-of-type {\n",
              "        vertical-align: middle;\n",
              "    }\n",
              "\n",
              "    .dataframe tbody tr th {\n",
              "        vertical-align: top;\n",
              "    }\n",
              "\n",
              "    .dataframe thead th {\n",
              "        text-align: right;\n",
              "    }\n",
              "</style>\n",
              "<table border=\"1\" class=\"dataframe\">\n",
              "  <thead>\n",
              "    <tr style=\"text-align: right;\">\n",
              "      <th></th>\n",
              "      <th>PRODUCT_ID</th>\n",
              "      <th>BROWSE_NODE_ID</th>\n",
              "    </tr>\n",
              "  </thead>\n",
              "  <tbody>\n",
              "    <tr>\n",
              "      <th>0</th>\n",
              "      <td>110753</td>\n",
              "      <td>4501</td>\n",
              "    </tr>\n",
              "    <tr>\n",
              "      <th>1</th>\n",
              "      <td>110754</td>\n",
              "      <td>709</td>\n",
              "    </tr>\n",
              "    <tr>\n",
              "      <th>2</th>\n",
              "      <td>110755</td>\n",
              "      <td>7462</td>\n",
              "    </tr>\n",
              "    <tr>\n",
              "      <th>3</th>\n",
              "      <td>110756</td>\n",
              "      <td>1287</td>\n",
              "    </tr>\n",
              "    <tr>\n",
              "      <th>4</th>\n",
              "      <td>110757</td>\n",
              "      <td>532</td>\n",
              "    </tr>\n",
              "    <tr>\n",
              "      <th>5</th>\n",
              "      <td>110758</td>\n",
              "      <td>840</td>\n",
              "    </tr>\n",
              "    <tr>\n",
              "      <th>6</th>\n",
              "      <td>110759</td>\n",
              "      <td>1922</td>\n",
              "    </tr>\n",
              "    <tr>\n",
              "      <th>7</th>\n",
              "      <td>110760</td>\n",
              "      <td>4</td>\n",
              "    </tr>\n",
              "    <tr>\n",
              "      <th>8</th>\n",
              "      <td>110761</td>\n",
              "      <td>800</td>\n",
              "    </tr>\n",
              "    <tr>\n",
              "      <th>9</th>\n",
              "      <td>110762</td>\n",
              "      <td>800</td>\n",
              "    </tr>\n",
              "    <tr>\n",
              "      <th>10</th>\n",
              "      <td>110763</td>\n",
              "      <td>13568</td>\n",
              "    </tr>\n",
              "    <tr>\n",
              "      <th>11</th>\n",
              "      <td>110764</td>\n",
              "      <td>800</td>\n",
              "    </tr>\n",
              "    <tr>\n",
              "      <th>12</th>\n",
              "      <td>110765</td>\n",
              "      <td>800</td>\n",
              "    </tr>\n",
              "    <tr>\n",
              "      <th>13</th>\n",
              "      <td>110766</td>\n",
              "      <td>4867</td>\n",
              "    </tr>\n",
              "    <tr>\n",
              "      <th>14</th>\n",
              "      <td>110767</td>\n",
              "      <td>3442</td>\n",
              "    </tr>\n",
              "    <tr>\n",
              "      <th>15</th>\n",
              "      <td>110768</td>\n",
              "      <td>3442</td>\n",
              "    </tr>\n",
              "    <tr>\n",
              "      <th>16</th>\n",
              "      <td>110769</td>\n",
              "      <td>279</td>\n",
              "    </tr>\n",
              "    <tr>\n",
              "      <th>17</th>\n",
              "      <td>110770</td>\n",
              "      <td>74</td>\n",
              "    </tr>\n",
              "    <tr>\n",
              "      <th>18</th>\n",
              "      <td>110771</td>\n",
              "      <td>4368</td>\n",
              "    </tr>\n",
              "    <tr>\n",
              "      <th>19</th>\n",
              "      <td>110772</td>\n",
              "      <td>10325</td>\n",
              "    </tr>\n",
              "    <tr>\n",
              "      <th>20</th>\n",
              "      <td>110773</td>\n",
              "      <td>800</td>\n",
              "    </tr>\n",
              "    <tr>\n",
              "      <th>21</th>\n",
              "      <td>110774</td>\n",
              "      <td>800</td>\n",
              "    </tr>\n",
              "    <tr>\n",
              "      <th>22</th>\n",
              "      <td>110775</td>\n",
              "      <td>3442</td>\n",
              "    </tr>\n",
              "  </tbody>\n",
              "</table>\n",
              "</div>"
            ],
            "text/plain": [
              "    PRODUCT_ID  BROWSE_NODE_ID\n",
              "0       110753            4501\n",
              "1       110754             709\n",
              "2       110755            7462\n",
              "3       110756            1287\n",
              "4       110757             532\n",
              "5       110758             840\n",
              "6       110759            1922\n",
              "7       110760               4\n",
              "8       110761             800\n",
              "9       110762             800\n",
              "10      110763           13568\n",
              "11      110764             800\n",
              "12      110765             800\n",
              "13      110766            4867\n",
              "14      110767            3442\n",
              "15      110768            3442\n",
              "16      110769             279\n",
              "17      110770              74\n",
              "18      110771            4368\n",
              "19      110772           10325\n",
              "20      110773             800\n",
              "21      110774             800\n",
              "22      110775            3442"
            ]
          },
          "metadata": {
            "tags": []
          },
          "execution_count": 24
        }
      ]
    },
    {
      "cell_type": "code",
      "metadata": {
        "id": "BlFRgQTuynjQ"
      },
      "source": [
        "submission_df.to_csv(\"submission.csv\", index=False)"
      ],
      "execution_count": null,
      "outputs": []
    },
    {
      "cell_type": "code",
      "metadata": {
        "id": "gyjrkksdFobk"
      },
      "source": [
        ""
      ],
      "execution_count": null,
      "outputs": []
    }
  ]
}